{
  "nbformat": 4,
  "nbformat_minor": 0,
  "metadata": {
    "colab": {
      "name": "Day18(13.06.20).ipynb",
      "provenance": [],
      "authorship_tag": "ABX9TyOfBhmO/8hPB9zfgl9mCplR",
      "include_colab_link": true
    },
    "kernelspec": {
      "name": "python3",
      "display_name": "Python 3"
    }
  },
  "cells": [
    {
      "cell_type": "markdown",
      "metadata": {
        "id": "view-in-github",
        "colab_type": "text"
      },
      "source": [
        "<a href=\"https://colab.research.google.com/github/santhoshipola/datas2/blob/master/Day18(13_06_20).ipynb\" target=\"_parent\"><img src=\"https://colab.research.google.com/assets/colab-badge.svg\" alt=\"Open In Colab\"/></a>"
      ]
    },
    {
      "cell_type": "code",
      "metadata": {
        "id": "ByAl9S7gobQU",
        "colab_type": "code",
        "colab": {}
      },
      "source": [
        "#Input:\n",
        "#user_id = [1,1,2,3,3,4,4,4,5,5]\n",
        "#ancestry=[\"England\",\"Ireland\",\"France\",\"Germany\",\"Poland\",\"England\",\"France\",\"Germany\",\"France\",\"Germany\"]\n",
        "\n",
        "#If my required countries are France and Germany\n",
        "#required = ['France', 'Germany']\n",
        "\n",
        "#Output:\n",
        "#4\n",
        "#5"
      ],
      "execution_count": 0,
      "outputs": []
    },
    {
      "cell_type": "code",
      "metadata": {
        "id": "TqW8EJlmohrb",
        "colab_type": "code",
        "colab": {}
      },
      "source": [
        "user_id = [1,1,2,3,3,4,4,4,5,5]\n",
        "user=list(set(user_id))\n",
        "ancestry=[\"England\",\"Ireland\",\"France\",\"Germany\",\"Poland\",\"England\",\"France\",\"Germany\",\"France\",\"Germany\"]\n",
        "dict1 = {}\n",
        "for i in user:\n",
        "    dict1[i] = [ancestry[j] for j in range(len(user_id)) if i==user_id[j]]"
      ],
      "execution_count": 0,
      "outputs": []
    },
    {
      "cell_type": "code",
      "metadata": {
        "id": "LH5vLwdpon7g",
        "colab_type": "code",
        "colab": {
          "base_uri": "https://localhost:8080/",
          "height": 51
        },
        "outputId": "da6cc508-9837-4cb9-e9ad-eeeb1d1a3062"
      },
      "source": [
        "required = ['France','Germany']\n",
        "for i in dict1.values():\n",
        "    flag = 0\n",
        "    for j in required:\n",
        "        if j in i:\n",
        "            flag +=1\n",
        "    if flag == len(required):\n",
        "        for key,values in dict1.items():\n",
        "            if i == values:\n",
        "                print(key)"
      ],
      "execution_count": 3,
      "outputs": [
        {
          "output_type": "stream",
          "text": [
            "4\n",
            "5\n"
          ],
          "name": "stdout"
        }
      ]
    },
    {
      "cell_type": "code",
      "metadata": {
        "id": "6B5m5jl-oqaf",
        "colab_type": "code",
        "colab": {}
      },
      "source": [
        ""
      ],
      "execution_count": 0,
      "outputs": []
    }
  ]
}