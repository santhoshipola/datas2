{
  "nbformat": 4,
  "nbformat_minor": 0,
  "metadata": {
    "colab": {
      "name": "Day9(03.06.20).ipynb",
      "provenance": [],
      "authorship_tag": "ABX9TyPQ9Kgnv7v+yqHfRMHk7ih3",
      "include_colab_link": true
    },
    "kernelspec": {
      "name": "python3",
      "display_name": "Python 3"
    }
  },
  "cells": [
    {
      "cell_type": "markdown",
      "metadata": {
        "id": "view-in-github",
        "colab_type": "text"
      },
      "source": [
        "<a href=\"https://colab.research.google.com/github/santhoshipola/datas2/blob/master/Day9(03_06_20).ipynb\" target=\"_parent\"><img src=\"https://colab.research.google.com/assets/colab-badge.svg\" alt=\"Open In Colab\"/></a>"
      ]
    },
    {
      "cell_type": "code",
      "metadata": {
        "id": "VzWQWpEkLi6y",
        "colab_type": "code",
        "colab": {
          "base_uri": "https://localhost:8080/",
          "height": 34
        },
        "outputId": "5cafa452-1c3a-436b-bdfc-6b684ce5fe8f"
      },
      "source": [
        "#password picker assignment of 01.06.20\n",
        "import string\n",
        "from random import *#random should be written while using choice function          or import random can be used    \n",
        "print(\"Welcome to password picker!!!\")\n",
        "adj = [\"excellent\",\"verygood\",\"good\",\"bad\",\"poor\"]\n",
        "noun = [\"santu\",\"supriya\",\"saas\",\"santhoshi\",\"sai\"]\n",
        "digits = string.digits\n",
        "spl_char = string.punctuation\n"
      ],
      "execution_count": 6,
      "outputs": [
        {
          "output_type": "stream",
          "text": [
            "Welcome to password picker!!!\n"
          ],
          "name": "stdout"
        }
      ]
    },
    {
      "cell_type": "code",
      "metadata": {
        "id": "R4V-_-0bXPmb",
        "colab_type": "code",
        "colab": {
          "base_uri": "https://localhost:8080/",
          "height": 123
        },
        "outputId": "3f7842ba-bce9-42ff-d131-7849bd451dfb"
      },
      "source": [
        "while True:\n",
        "  password = choice(adj) + choice(noun) + choice(digits) + choice(spl_char)\n",
        "  print(\"your password is :\" ,password)\n",
        "  print(\"do you want to generate another password?\")\n",
        "  response = input(\"enter yes for new password no for not generating the password!!\")\n",
        "  if response in [\"no\",\"No\",\"NO\",\"nO\"] :\n",
        "    break\n",
        "  elif response in [\"yes\",\"Yes\"]:\n",
        "    continue\n",
        "  else:\n",
        "    print(\"enter either yes or no!!!\")"
      ],
      "execution_count": 10,
      "outputs": [
        {
          "output_type": "stream",
          "text": [
            "your password is : excellentsai0(\n",
            "do you want to generate another password?\n",
            "enter yes for new password no for not generating the password!!yes\n",
            "your password is : goodsai9`\n",
            "do you want to generate another password?\n",
            "enter yes for new password no for not generating the password!!no\n"
          ],
          "name": "stdout"
        }
      ]
    },
    {
      "cell_type": "code",
      "metadata": {
        "id": "ZZil0ltha9pT",
        "colab_type": "code",
        "colab": {}
      },
      "source": [
        "##Module:\n",
        "1.pre-defined modules\n",
        "2.User- defined modules"
      ],
      "execution_count": 0,
      "outputs": []
    },
    {
      "cell_type": "code",
      "metadata": {
        "id": "7GLmh1AbbgND",
        "colab_type": "code",
        "colab": {
          "base_uri": "https://localhost:8080/",
          "height": 34
        },
        "outputId": "76478509-8636-42a0-f66f-a306415a7954"
      },
      "source": [
        "import string\n",
        "string.digits"
      ],
      "execution_count": 11,
      "outputs": [
        {
          "output_type": "execute_result",
          "data": {
            "text/plain": [
              "'0123456789'"
            ]
          },
          "metadata": {
            "tags": []
          },
          "execution_count": 11
        }
      ]
    },
    {
      "cell_type": "code",
      "metadata": {
        "id": "nfzW4W3PbgLY",
        "colab_type": "code",
        "colab": {
          "base_uri": "https://localhost:8080/",
          "height": 34
        },
        "outputId": "559b8582-a9a5-4717-89e0-92ec4058ff6c"
      },
      "source": [
        "import string as s#as repersents alias name for string\n",
        "s.digits"
      ],
      "execution_count": 12,
      "outputs": [
        {
          "output_type": "execute_result",
          "data": {
            "text/plain": [
              "'0123456789'"
            ]
          },
          "metadata": {
            "tags": []
          },
          "execution_count": 12
        }
      ]
    },
    {
      "cell_type": "code",
      "metadata": {
        "id": "4XW5L9wPbgJz",
        "colab_type": "code",
        "colab": {
          "base_uri": "https://localhost:8080/",
          "height": 52
        },
        "outputId": "d5045df2-7bc9-4901-c716-da363080c3ad"
      },
      "source": [
        "from string import digits,punctuation\n",
        "print(digits)\n",
        "print(punctuation)"
      ],
      "execution_count": 16,
      "outputs": [
        {
          "output_type": "stream",
          "text": [
            "0123456789\n",
            "!\"#$%&'()*+,-./:;<=>?@[\\]^_`{|}~\n"
          ],
          "name": "stdout"
        }
      ]
    },
    {
      "cell_type": "code",
      "metadata": {
        "id": "hLB-mYCobgIQ",
        "colab_type": "code",
        "colab": {
          "base_uri": "https://localhost:8080/",
          "height": 52
        },
        "outputId": "5f381854-8b0d-4cd0-a2a9-acdb43c502b9"
      },
      "source": [
        "from string import *#  * is to import all the types of methods\n",
        "print(digits)\n",
        "print(punctuation)"
      ],
      "execution_count": 19,
      "outputs": [
        {
          "output_type": "stream",
          "text": [
            "0123456789\n",
            "!\"#$%&'()*+,-./:;<=>?@[\\]^_`{|}~\n"
          ],
          "name": "stdout"
        }
      ]
    },
    {
      "cell_type": "code",
      "metadata": {
        "id": "3gAjt0wQbgGj",
        "colab_type": "code",
        "colab": {
          "base_uri": "https://localhost:8080/",
          "height": 34
        },
        "outputId": "7ef74206-a397-48e1-eb75-1095398f4361"
      },
      "source": [
        "list1 = [1,2,3,4,5]\n",
        "su = 0#integer\n",
        "for i in list1:\n",
        "  su += i\n",
        "print(su)                        #dont create any object with builin method or variables because they will become hidden by this"
      ],
      "execution_count": 27,
      "outputs": [
        {
          "output_type": "stream",
          "text": [
            "15\n"
          ],
          "name": "stdout"
        }
      ]
    },
    {
      "cell_type": "code",
      "metadata": {
        "id": "nSLGK46vbgDo",
        "colab_type": "code",
        "colab": {
          "base_uri": "https://localhost:8080/",
          "height": 167
        },
        "outputId": "c43b21e2-8145-4bc7-d1a0-1bb989132edf"
      },
      "source": [
        "sum(list1)"
      ],
      "execution_count": 18,
      "outputs": [
        {
          "output_type": "error",
          "ename": "TypeError",
          "evalue": "ignored",
          "traceback": [
            "\u001b[0;31m---------------------------------------------------------------------------\u001b[0m",
            "\u001b[0;31mTypeError\u001b[0m                                 Traceback (most recent call last)",
            "\u001b[0;32m<ipython-input-18-59e756a86e90>\u001b[0m in \u001b[0;36m<module>\u001b[0;34m()\u001b[0m\n\u001b[0;32m----> 1\u001b[0;31m \u001b[0msum\u001b[0m\u001b[0;34m(\u001b[0m\u001b[0mlist1\u001b[0m\u001b[0;34m)\u001b[0m\u001b[0;34m\u001b[0m\u001b[0;34m\u001b[0m\u001b[0m\n\u001b[0m",
            "\u001b[0;31mTypeError\u001b[0m: 'int' object is not callable"
          ]
        }
      ]
    },
    {
      "cell_type": "code",
      "metadata": {
        "id": "b02CiJV2bf_1",
        "colab_type": "code",
        "colab": {}
      },
      "source": [
        "#user defined modules:i.e creting our own modules\n",
        "go to folderin which jupyter is present\n",
        "click on new and then text file\n",
        "a untitled text file is opened\n",
        "click on lang and select it as python\n",
        "rename your text file to operations.python\n",
        "more two steps are present ...check it\n",
        "add your code nown (used functions)\n",
        "save it and close the file"
      ],
      "execution_count": 0,
      "outputs": []
    },
    {
      "cell_type": "code",
      "metadata": {
        "id": "ki9ITrbbgl0h",
        "colab_type": "code",
        "colab": {}
      },
      "source": [
        "import operations\n",
        "operations.wish(\"sanntu\")#we get output according to the code we have written"
      ],
      "execution_count": 0,
      "outputs": []
    },
    {
      "cell_type": "code",
      "metadata": {
        "id": "xlCSKfqPglyH",
        "colab_type": "code",
        "colab": {}
      },
      "source": [
        "import operations as o\n",
        "o.wish(\"saas\")\n",
        "o.result#can use help(\"operations\") to get your code in operations file"
      ],
      "execution_count": 0,
      "outputs": []
    },
    {
      "cell_type": "code",
      "metadata": {
        "id": "n4UnFHMTglwG",
        "colab_type": "code",
        "colab": {}
      },
      "source": [
        "#builtin libraries:\n",
        "1.math\n",
        "2.statistics"
      ],
      "execution_count": 0,
      "outputs": []
    },
    {
      "cell_type": "code",
      "metadata": {
        "id": "L0T9GFijjZyX",
        "colab_type": "code",
        "colab": {}
      },
      "source": [
        "import math"
      ],
      "execution_count": 0,
      "outputs": []
    },
    {
      "cell_type": "code",
      "metadata": {
        "id": "gdEYvq3CjZax",
        "colab_type": "code",
        "colab": {}
      },
      "source": [
        "help(\"math\")"
      ],
      "execution_count": 0,
      "outputs": []
    },
    {
      "cell_type": "code",
      "metadata": {
        "id": "6RvbOatLjZWO",
        "colab_type": "code",
        "colab": {
          "base_uri": "https://localhost:8080/",
          "height": 34
        },
        "outputId": "efad4e20-c4a0-42d5-e3ef-7df1a6fea617"
      },
      "source": [
        "import math\n",
        "math.factorial(5)"
      ],
      "execution_count": 21,
      "outputs": [
        {
          "output_type": "execute_result",
          "data": {
            "text/plain": [
              "120"
            ]
          },
          "metadata": {
            "tags": []
          },
          "execution_count": 21
        }
      ]
    },
    {
      "cell_type": "code",
      "metadata": {
        "id": "6wHsx_8mjZP5",
        "colab_type": "code",
        "colab": {
          "base_uri": "https://localhost:8080/",
          "height": 34
        },
        "outputId": "ffa45a1e-d787-473c-ceb1-d5d71d81ce93"
      },
      "source": [
        "#using math module find area of the circle\n",
        "def Area(radius):\n",
        " return math.pi*(radius)*radius\n",
        "\n",
        "\n",
        "Area(7)"
      ],
      "execution_count": 23,
      "outputs": [
        {
          "output_type": "execute_result",
          "data": {
            "text/plain": [
              "153.93804002589985"
            ]
          },
          "metadata": {
            "tags": []
          },
          "execution_count": 23
        }
      ]
    },
    {
      "cell_type": "code",
      "metadata": {
        "id": "CZY3MKsdglrU",
        "colab_type": "code",
        "colab": {
          "base_uri": "https://localhost:8080/",
          "height": 34
        },
        "outputId": "3dbe75c7-b9df-44b7-bfc5-02f31e1e648c"
      },
      "source": [
        "import statistics as s\n",
        "list1 = list(range(1,21))\n",
        "list1"
      ],
      "execution_count": 37,
      "outputs": [
        {
          "output_type": "execute_result",
          "data": {
            "text/plain": [
              "[1, 2, 3, 4, 5, 6, 7, 8, 9, 10, 11, 12, 13, 14, 15, 16, 17, 18, 19, 20]"
            ]
          },
          "metadata": {
            "tags": []
          },
          "execution_count": 37
        }
      ]
    },
    {
      "cell_type": "code",
      "metadata": {
        "id": "JhAfRn0tglp9",
        "colab_type": "code",
        "colab": {
          "base_uri": "https://localhost:8080/",
          "height": 203
        },
        "outputId": "ba9f44c8-cedb-4c35-8e1f-8e0c6e861d6b"
      },
      "source": [
        "print(s.mean(list1))#gives mean value of all elements\n",
        "print(sum(list1)/len(list1))#error is due to sum used before try it alone"
      ],
      "execution_count": 35,
      "outputs": [
        {
          "output_type": "stream",
          "text": [
            "3\n"
          ],
          "name": "stdout"
        },
        {
          "output_type": "error",
          "ename": "TypeError",
          "evalue": "ignored",
          "traceback": [
            "\u001b[0;31m---------------------------------------------------------------------------\u001b[0m",
            "\u001b[0;31mTypeError\u001b[0m                                 Traceback (most recent call last)",
            "\u001b[0;32m<ipython-input-35-db37cb65320f>\u001b[0m in \u001b[0;36m<module>\u001b[0;34m()\u001b[0m\n\u001b[1;32m      1\u001b[0m \u001b[0mprint\u001b[0m\u001b[0;34m(\u001b[0m\u001b[0ms\u001b[0m\u001b[0;34m.\u001b[0m\u001b[0mmean\u001b[0m\u001b[0;34m(\u001b[0m\u001b[0mlist1\u001b[0m\u001b[0;34m)\u001b[0m\u001b[0;34m)\u001b[0m\u001b[0;31m#gives mean value of all elements\u001b[0m\u001b[0;34m\u001b[0m\u001b[0;34m\u001b[0m\u001b[0m\n\u001b[0;32m----> 2\u001b[0;31m \u001b[0mprint\u001b[0m\u001b[0;34m(\u001b[0m\u001b[0msum\u001b[0m\u001b[0;34m(\u001b[0m\u001b[0mlist1\u001b[0m\u001b[0;34m)\u001b[0m\u001b[0;34m/\u001b[0m\u001b[0mlen\u001b[0m\u001b[0;34m(\u001b[0m\u001b[0mlist1\u001b[0m\u001b[0;34m)\u001b[0m\u001b[0;34m)\u001b[0m\u001b[0;31m#error is due to sum used before try it alone\u001b[0m\u001b[0;34m\u001b[0m\u001b[0;34m\u001b[0m\u001b[0m\n\u001b[0m",
            "\u001b[0;31mTypeError\u001b[0m: 'int' object is not callable"
          ]
        }
      ]
    },
    {
      "cell_type": "code",
      "metadata": {
        "id": "LbO5AMRzgloS",
        "colab_type": "code",
        "colab": {
          "base_uri": "https://localhost:8080/",
          "height": 34
        },
        "outputId": "331d17bc-5b1d-4add-f507-7e8a0e471232"
      },
      "source": [
        "list2= [1,2,3,2,3,2]\n",
        "print(s.mode(list2))"
      ],
      "execution_count": 33,
      "outputs": [
        {
          "output_type": "stream",
          "text": [
            "2\n"
          ],
          "name": "stdout"
        }
      ]
    },
    {
      "cell_type": "code",
      "metadata": {
        "id": "6Pv3WGeHglmH",
        "colab_type": "code",
        "colab": {
          "base_uri": "https://localhost:8080/",
          "height": 34
        },
        "outputId": "1f4f3765-0293-4e20-8fca-2a3c0df55d1e"
      },
      "source": [
        "print(s.median(list1))"
      ],
      "execution_count": 38,
      "outputs": [
        {
          "output_type": "stream",
          "text": [
            "10.5\n"
          ],
          "name": "stdout"
        }
      ]
    },
    {
      "cell_type": "code",
      "metadata": {
        "id": "azAds_L6glje",
        "colab_type": "code",
        "colab": {
          "base_uri": "https://localhost:8080/",
          "height": 34
        },
        "outputId": "b356f010-8d70-46fb-b3a0-a523450267c8"
      },
      "source": [
        "s.stdev(list2)#standard deviation"
      ],
      "execution_count": 39,
      "outputs": [
        {
          "output_type": "execute_result",
          "data": {
            "text/plain": [
              "0.752772652709081"
            ]
          },
          "metadata": {
            "tags": []
          },
          "execution_count": 39
        }
      ]
    },
    {
      "cell_type": "code",
      "metadata": {
        "id": "kbKUNyxHglge",
        "colab_type": "code",
        "colab": {
          "base_uri": "https://localhost:8080/",
          "height": 34
        },
        "outputId": "e5b9b7ca-cb01-462e-c524-93eeb596c7ed"
      },
      "source": [
        "s.variance(list2)#variance"
      ],
      "execution_count": 40,
      "outputs": [
        {
          "output_type": "execute_result",
          "data": {
            "text/plain": [
              "0.5666666666666667"
            ]
          },
          "metadata": {
            "tags": []
          },
          "execution_count": 40
        }
      ]
    },
    {
      "cell_type": "code",
      "metadata": {
        "id": "7EDcvFB3gldB",
        "colab_type": "code",
        "colab": {}
      },
      "source": [
        "##random:it is a builtin methods\n",
        "1.randit() -->randit(start,stop)\n",
        "2.random()\n",
        "3.choice()\n",
        "4.randrange()"
      ],
      "execution_count": 0,
      "outputs": []
    },
    {
      "cell_type": "code",
      "metadata": {
        "id": "xGqmsrjNosX8",
        "colab_type": "code",
        "colab": {
          "base_uri": "https://localhost:8080/",
          "height": 70
        },
        "outputId": "99b16de6-6bca-4691-a2ba-547638f3f1fa"
      },
      "source": [
        "import random\n",
        "print(random.randint(1,10))#start and stop values are included ,a random number is printed\n",
        "print(random.randrange(1,10))#stop value is excluded                    random and randrange are to generate random integers\n",
        "print(random.random())#creates random float value between 0 and 1"
      ],
      "execution_count": 45,
      "outputs": [
        {
          "output_type": "stream",
          "text": [
            "8\n",
            "9\n",
            "0.9619995897331888\n"
          ],
          "name": "stdout"
        }
      ]
    },
    {
      "cell_type": "code",
      "metadata": {
        "id": "nUo3euaWosS-",
        "colab_type": "code",
        "colab": {
          "base_uri": "https://localhost:8080/",
          "height": 52
        },
        "outputId": "e25e8dd2-9f45-4161-c42f-79bf08ed8760"
      },
      "source": [
        "list1 = [1,2,3,4,5,6,7,8]\n",
        "print(random.choice(list1))#choice generates element from the given list\n",
        "print(random.choices(list1,k = 5))#k represents number of are to be extracted from list          choices is to extract multiple elements"
      ],
      "execution_count": 47,
      "outputs": [
        {
          "output_type": "stream",
          "text": [
            "6\n",
            "[1, 1, 4, 1, 4]\n"
          ],
          "name": "stdout"
        }
      ]
    },
    {
      "cell_type": "code",
      "metadata": {
        "id": "_tVcNLACobHA",
        "colab_type": "code",
        "colab": {}
      },
      "source": [
        "#os:\n",
        "1.rename()-->renaming\n",
        "2.remove()-->removing\n",
        "3.mkdir()-->make a directory\n",
        "4.getcwd()-->gives current working directory\n",
        "5.listdir()-->gives list of things available in directory\n",
        "6.chdir()-->change directory\n",
        "7.rmdir()-->removing directory"
      ],
      "execution_count": 0,
      "outputs": []
    },
    {
      "cell_type": "code",
      "metadata": {
        "id": "P1QgNYbQobDW",
        "colab_type": "code",
        "colab": {}
      },
      "source": [
        "import os\n",
        "os.mkdir(\"sample\")\n",
        "\n"
      ],
      "execution_count": 0,
      "outputs": []
    },
    {
      "cell_type": "code",
      "metadata": {
        "id": "vI-neCwSqndB",
        "colab_type": "code",
        "colab": {}
      },
      "source": [
        "os.getcwd()#pwd is present only in jupyter so cwd can be used anywhere"
      ],
      "execution_count": 0,
      "outputs": []
    },
    {
      "cell_type": "code",
      "metadata": {
        "id": "16xP73RjqnYC",
        "colab_type": "code",
        "colab": {}
      },
      "source": [
        "os.listdir()"
      ],
      "execution_count": 0,
      "outputs": []
    },
    {
      "cell_type": "code",
      "metadata": {
        "id": "CBxLjsOuqnTG",
        "colab_type": "code",
        "colab": {}
      },
      "source": [
        "os.chdir(......................\\\\otherfoldername)"
      ],
      "execution_count": 0,
      "outputs": []
    },
    {
      "cell_type": "code",
      "metadata": {
        "id": "K73JrT0XqnLa",
        "colab_type": "code",
        "colab": {}
      },
      "source": [
        "#while removing a folder make sure that that folder is empty\n",
        "os.rmdir(\"sample\")"
      ],
      "execution_count": 0,
      "outputs": []
    },
    {
      "cell_type": "code",
      "metadata": {
        "id": "krjSP3XSss6n",
        "colab_type": "code",
        "colab": {}
      },
      "source": [
        "##Numpy packages:\n",
        "-operations related to numerics\n",
        "-computational operations"
      ],
      "execution_count": 0,
      "outputs": []
    },
    {
      "cell_type": "code",
      "metadata": {
        "id": "U9dGBJLXss5H",
        "colab_type": "code",
        "colab": {
          "base_uri": "https://localhost:8080/",
          "height": 34
        },
        "outputId": "fae081d8-7041-4a55-8c3c-a43ab2c55c6a"
      },
      "source": [
        "import numpy as np\n",
        "list1 = [1,2,3,4,5]\n",
        "arr1 = np.array(list1)#creating an array\n",
        "arr1"
      ],
      "execution_count": 48,
      "outputs": [
        {
          "output_type": "execute_result",
          "data": {
            "text/plain": [
              "array([1, 2, 3, 4, 5])"
            ]
          },
          "metadata": {
            "tags": []
          },
          "execution_count": 48
        }
      ]
    },
    {
      "cell_type": "code",
      "metadata": {
        "id": "5iZQg52tss3L",
        "colab_type": "code",
        "colab": {
          "base_uri": "https://localhost:8080/",
          "height": 34
        },
        "outputId": "2ff26581-d8c5-4866-c136-a73548794ca5"
      },
      "source": [
        "type(arr1)"
      ],
      "execution_count": 49,
      "outputs": [
        {
          "output_type": "execute_result",
          "data": {
            "text/plain": [
              "numpy.ndarray"
            ]
          },
          "metadata": {
            "tags": []
          },
          "execution_count": 49
        }
      ]
    },
    {
      "cell_type": "code",
      "metadata": {
        "id": "IqRqOm8Zss1K",
        "colab_type": "code",
        "colab": {
          "base_uri": "https://localhost:8080/",
          "height": 34
        },
        "outputId": "6c803cd6-277d-42f6-e8ae-428d0e93bc24"
      },
      "source": [
        "list2 = list(range(1,11))\n",
        "list2"
      ],
      "execution_count": 50,
      "outputs": [
        {
          "output_type": "execute_result",
          "data": {
            "text/plain": [
              "[1, 2, 3, 4, 5, 6, 7, 8, 9, 10]"
            ]
          },
          "metadata": {
            "tags": []
          },
          "execution_count": 50
        }
      ]
    },
    {
      "cell_type": "code",
      "metadata": {
        "id": "A8xt9Ptfssx8",
        "colab_type": "code",
        "colab": {
          "base_uri": "https://localhost:8080/",
          "height": 34
        },
        "outputId": "261de847-0aec-4512-801b-f85032f755d2"
      },
      "source": [
        "arr2 = np.arange(1,11)#other way of creating an array in numpy\n",
        "arr2"
      ],
      "execution_count": 52,
      "outputs": [
        {
          "output_type": "execute_result",
          "data": {
            "text/plain": [
              "array([ 1,  2,  3,  4,  5,  6,  7,  8,  9, 10])"
            ]
          },
          "metadata": {
            "tags": []
          },
          "execution_count": 52
        }
      ]
    },
    {
      "cell_type": "code",
      "metadata": {
        "id": "q5R_4E6Fssvm",
        "colab_type": "code",
        "colab": {}
      },
      "source": [
        "##differences between python list and numpy array\n",
        "-Numpy uses less memory\n",
        "-numpy is fast\n",
        "-numpy arrays are most convinient"
      ],
      "execution_count": 0,
      "outputs": []
    },
    {
      "cell_type": "code",
      "metadata": {
        "id": "kBYnzw9Qs7uv",
        "colab_type": "code",
        "colab": {
          "base_uri": "https://localhost:8080/",
          "height": 34
        },
        "outputId": "f4a034f9-3ab8-4b9e-a0cf-00d855c00559"
      },
      "source": [
        "import sys#sys is module which contains function get sizeof\n",
        "size = 1000\n",
        "list1 = list(range(size))\n",
        "print(sys.getsizeof(list1[0]))"
      ],
      "execution_count": 54,
      "outputs": [
        {
          "output_type": "stream",
          "text": [
            "24\n"
          ],
          "name": "stdout"
        }
      ]
    },
    {
      "cell_type": "code",
      "metadata": {
        "id": "txiQGbOws7q9",
        "colab_type": "code",
        "colab": {
          "base_uri": "https://localhost:8080/",
          "height": 34
        },
        "outputId": "425ff2b6-bf02-403f-cd35-fe62e879d128"
      },
      "source": [
        "print(sys.getsizeof(list1[0])*size)"
      ],
      "execution_count": 55,
      "outputs": [
        {
          "output_type": "stream",
          "text": [
            "24000\n"
          ],
          "name": "stdout"
        }
      ]
    },
    {
      "cell_type": "code",
      "metadata": {
        "id": "Z1s5iIgos7lU",
        "colab_type": "code",
        "colab": {
          "base_uri": "https://localhost:8080/",
          "height": 52
        },
        "outputId": "424fcf59-7ef5-4833-a895-86fc06793d94"
      },
      "source": [
        "size = 1000#less memory\n",
        "list1 = list(range(size))\n",
        "print(sys.getsizeof(list1[0])*size)\n",
        "arr1 = np.arange(1000)\n",
        "print(arr1.itemsize * arr1.size)"
      ],
      "execution_count": 56,
      "outputs": [
        {
          "output_type": "stream",
          "text": [
            "24000\n",
            "8000\n"
          ],
          "name": "stdout"
        }
      ]
    },
    {
      "cell_type": "code",
      "metadata": {
        "id": "xiYKyrZ2woPx",
        "colab_type": "code",
        "colab": {
          "base_uri": "https://localhost:8080/",
          "height": 52
        },
        "outputId": "83cfc894-4025-475f-e329-e0d3f1abfea4"
      },
      "source": [
        "import time\n",
        "size = 20000\n",
        "list1 = list(range(size))\n",
        "list2 = list(range(size))\n",
        "start = time.time()\n",
        "result = [x+y for x,y in zip(l1,l2)]\n",
        "print(\"timetaken for list:\",time.time()-start)\n",
        "arr1 = np.arange(size)\n",
        "arr2 = np.arange(size)\n",
        "start = time.time()\n",
        "result = arr1 + arr2\n",
        "print(\"timetaken for numpy:\",time.time()-start)"
      ],
      "execution_count": 62,
      "outputs": [
        {
          "output_type": "stream",
          "text": [
            "timetaken for list: 8.535385131835938e-05\n",
            "timetaken for numpy: 0.0005953311920166016\n"
          ],
          "name": "stdout"
        }
      ]
    },
    {
      "cell_type": "code",
      "metadata": {
        "id": "5lhFNK8zxGEZ",
        "colab_type": "code",
        "colab": {
          "base_uri": "https://localhost:8080/",
          "height": 34
        },
        "outputId": "78405559-2725-4e7e-dcec-a91ed23c4593"
      },
      "source": [
        "l1 = [1,2,3,4,5]\n",
        "l2 = [10,13,15,56,25]\n",
        "result = [11,15,18,60,30]\n",
        "result"
      ],
      "execution_count": 57,
      "outputs": [
        {
          "output_type": "execute_result",
          "data": {
            "text/plain": [
              "[11, 15, 18, 60, 30]"
            ]
          },
          "metadata": {
            "tags": []
          },
          "execution_count": 57
        }
      ]
    },
    {
      "cell_type": "code",
      "metadata": {
        "id": "lLOAJ9ZFxGA6",
        "colab_type": "code",
        "colab": {
          "base_uri": "https://localhost:8080/",
          "height": 34
        },
        "outputId": "82e0b85a-2173-4eca-b47c-3540e88c3030"
      },
      "source": [
        "a1 = np.array(l1)\n",
        "a2 = np.array(l2)\n",
        "result = a1 +a2 \n",
        "result"
      ],
      "execution_count": 59,
      "outputs": [
        {
          "output_type": "execute_result",
          "data": {
            "text/plain": [
              "array([11, 15, 18, 60, 30])"
            ]
          },
          "metadata": {
            "tags": []
          },
          "execution_count": 59
        }
      ]
    },
    {
      "cell_type": "code",
      "metadata": {
        "id": "a9q0DiT5xF73",
        "colab_type": "code",
        "colab": {}
      },
      "source": [
        ""
      ],
      "execution_count": 0,
      "outputs": []
    },
    {
      "cell_type": "code",
      "metadata": {
        "id": "QGMQB43jxF3V",
        "colab_type": "code",
        "colab": {}
      },
      "source": [
        ""
      ],
      "execution_count": 0,
      "outputs": []
    },
    {
      "cell_type": "code",
      "metadata": {
        "id": "fu13q6AwxFon",
        "colab_type": "code",
        "colab": {}
      },
      "source": [
        ""
      ],
      "execution_count": 0,
      "outputs": []
    }
  ]
}