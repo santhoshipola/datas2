{
  "nbformat": 4,
  "nbformat_minor": 0,
  "metadata": {
    "colab": {
      "name": "assignment(27.05.20).ipynb",
      "provenance": [],
      "authorship_tag": "ABX9TyOApMHpZbB/DZTHxriKBVFF",
      "include_colab_link": true
    },
    "kernelspec": {
      "name": "python3",
      "display_name": "Python 3"
    }
  },
  "cells": [
    {
      "cell_type": "markdown",
      "metadata": {
        "id": "view-in-github",
        "colab_type": "text"
      },
      "source": [
        "<a href=\"https://colab.research.google.com/github/santhoshipola/datas2/blob/master/assignment(27_05_20).ipynb\" target=\"_parent\"><img src=\"https://colab.research.google.com/assets/colab-badge.svg\" alt=\"Open In Colab\"/></a>"
      ]
    },
    {
      "cell_type": "markdown",
      "metadata": {
        "id": "Blb5KLOno7WZ",
        "colab_type": "text"
      },
      "source": [
        "ECE-221710401048-P.Santhoshi supriya"
      ]
    },
    {
      "cell_type": "code",
      "metadata": {
        "id": "1zDtEiAyoKl4",
        "colab_type": "code",
        "colab": {
          "base_uri": "https://localhost:8080/",
          "height": 123
        },
        "outputId": "a573e454-16da-4948-c489-dbfd18bc7f54"
      },
      "source": [
        "#1\n",
        "#Generate the given pattern\n",
        "n=int(input(\"Enter the value:\"))\n",
        "for i in range(n):\n",
        "    for j in range(i+1):\n",
        "        print(\" * \",end=\" \")\n",
        "    print()       "
      ],
      "execution_count": 1,
      "outputs": [
        {
          "output_type": "stream",
          "text": [
            "Enter the value:5\n",
            " *  \n",
            " *   *  \n",
            " *   *   *  \n",
            " *   *   *   *  \n",
            " *   *   *   *   *  \n"
          ],
          "name": "stdout"
        }
      ]
    },
    {
      "cell_type": "code",
      "metadata": {
        "id": "8udrelZQoUhF",
        "colab_type": "code",
        "colab": {
          "base_uri": "https://localhost:8080/",
          "height": 212
        },
        "outputId": "807e4fab-9fcd-42b8-eda5-8178cdad3f09"
      },
      "source": [
        "#2 Genrate Kth table\n",
        "n=int(input(\"enter :\"))\n",
        "for i in range(1,11):\n",
        "    print(n,\"*\",i,\"=\",n*i)\n"
      ],
      "execution_count": 2,
      "outputs": [
        {
          "output_type": "stream",
          "text": [
            "enter :7\n",
            "7 * 1 = 7\n",
            "7 * 2 = 14\n",
            "7 * 3 = 21\n",
            "7 * 4 = 28\n",
            "7 * 5 = 35\n",
            "7 * 6 = 42\n",
            "7 * 7 = 49\n",
            "7 * 8 = 56\n",
            "7 * 9 = 63\n",
            "7 * 10 = 70\n"
          ],
          "name": "stdout"
        }
      ]
    },
    {
      "cell_type": "code",
      "metadata": {
        "id": "GXAsQslAoj3o",
        "colab_type": "code",
        "colab": {
          "base_uri": "https://localhost:8080/",
          "height": 87
        },
        "outputId": "65a317c4-293d-4b4a-dc27-7f8863abaed1"
      },
      "source": [
        "#3 Roots of quadratic equation\n",
        "import cmath\n",
        "a=int(input(\"Enter the value of a: \"))\n",
        "b=int(input(\"Enter the value of b: \"))\n",
        "c=int(input(\"Enter the value of c: \"))\n",
        "d=(b**2)-(4*a*c)\n",
        "root1=(-b-cmath.sqrt(d))/(2*a)\n",
        "root2=(-b+cmath.sqrt(d))/(2*a)\n",
        "print(\"The roots are {0} and {1} \".format(root1,root2))"
      ],
      "execution_count": 3,
      "outputs": [
        {
          "output_type": "stream",
          "text": [
            "Enter the value of a: 3\n",
            "Enter the value of b: 5\n",
            "Enter the value of c: 2\n",
            "The roots are (-1+0j) and (-0.6666666666666666+0j) \n"
          ],
          "name": "stdout"
        }
      ]
    },
    {
      "cell_type": "code",
      "metadata": {
        "id": "jrPH5ixzoj7Y",
        "colab_type": "code",
        "colab": {
          "base_uri": "https://localhost:8080/",
          "height": 52
        },
        "outputId": "00cf9099-4f04-469d-cd97-31b9b0f7fe66"
      },
      "source": [
        "#4 Convert decimal to binary\n",
        "def DecimalToBinary(num) :\n",
        "        if num > 1:\n",
        "            DecimalToBinary(num // 2)\n",
        "        print (num % 2,end='')\n",
        "a=int(input(\"Enter a decimal number : \"))\n",
        "DecimalToBinary(a)"
      ],
      "execution_count": 4,
      "outputs": [
        {
          "output_type": "stream",
          "text": [
            "Enter a decimal number : 42\n",
            "101010"
          ],
          "name": "stdout"
        }
      ]
    },
    {
      "cell_type": "code",
      "metadata": {
        "id": "51voRQ-qow-y",
        "colab_type": "code",
        "colab": {
          "base_uri": "https://localhost:8080/",
          "height": 52
        },
        "outputId": "b295824c-1137-4ad8-a624-84c94cd6cd07"
      },
      "source": [
        "#5 Generate first N number of Fibonacci numbers. Take N value from the user\n",
        "def fibonacci(n):\n",
        "    if (n==0):\n",
        "        return 0\n",
        "    elif (n==1):\n",
        "        return 1\n",
        "    else :\n",
        "        return fibonacci(n-1)+fibonacci(n-2)\n",
        "a=int(input(\"Enter the value :\" ))    \n",
        "for a in range(0,a):\n",
        "         print(fibonacci(a),end=' ')    \n",
        "    \n",
        "    "
      ],
      "execution_count": 5,
      "outputs": [
        {
          "output_type": "stream",
          "text": [
            "Enter the value :6\n",
            "0 1 1 2 3 5 "
          ],
          "name": "stdout"
        }
      ]
    },
    {
      "cell_type": "code",
      "metadata": {
        "id": "knLMGWAPo2rZ",
        "colab_type": "code",
        "colab": {}
      },
      "source": [
        ""
      ],
      "execution_count": 0,
      "outputs": []
    }
  ]
}