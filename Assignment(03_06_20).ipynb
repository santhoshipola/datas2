{
  "nbformat": 4,
  "nbformat_minor": 0,
  "metadata": {
    "colab": {
      "name": "Assignment(03.06.20).ipynb",
      "provenance": [],
      "authorship_tag": "ABX9TyOkFAaVA0gQBM8xzJAXOvtB",
      "include_colab_link": true
    },
    "kernelspec": {
      "name": "python3",
      "display_name": "Python 3"
    }
  },
  "cells": [
    {
      "cell_type": "markdown",
      "metadata": {
        "id": "view-in-github",
        "colab_type": "text"
      },
      "source": [
        "<a href=\"https://colab.research.google.com/github/santhoshipola/datas2/blob/master/Assignment(03_06_20).ipynb\" target=\"_parent\"><img src=\"https://colab.research.google.com/assets/colab-badge.svg\" alt=\"Open In Colab\"/></a>"
      ]
    },
    {
      "cell_type": "code",
      "metadata": {
        "id": "a8MRDo4vu7g7",
        "colab_type": "code",
        "colab": {
          "base_uri": "https://localhost:8080/",
          "height": 34
        },
        "outputId": "c0665e13-4b27-44ab-fb00-f77dfd51941e"
      },
      "source": [
        "#Q.no:01\n",
        "f = open(\"file1.txt\", \"w\")\n",
        "f.write(\"Data Science With Python,Advanced Programming,AI and ML,Full Stack Web Development\")\n",
        "f.close()\n",
        "\n",
        "f = open(\"file1.txt\",\"r\")\n",
        "data = f.read()\n",
        "print(data)\n",
        "f.close()\n",
        "\n",
        "f = open(\"file2.txt\",\"w\")\n",
        "f.write(data[::-1])\n",
        "f.close()"
      ],
      "execution_count": 1,
      "outputs": [
        {
          "output_type": "stream",
          "text": [
            "Data Science With Python,Advanced Programming,AI and ML,Full Stack Web Development\n"
          ],
          "name": "stdout"
        }
      ]
    },
    {
      "cell_type": "code",
      "metadata": {
        "id": "jcmiRB8UvRlp",
        "colab_type": "code",
        "colab": {
          "base_uri": "https://localhost:8080/",
          "height": 141
        },
        "outputId": "a9105dbd-f9b0-461a-834e-27f8d6bf6bf6"
      },
      "source": [
        "#Q.no:02\n",
        "L = [\"Data Science\\n\", \"Advanced Programming\\n\", \"AI and ML\\n\",\"Full Stack Web Development\\n\",\"Python Programming\\n\",\"Summer Internship\\n\"]\n",
        "\n",
        "f1 = open(\"myfile.txt\", \"w\") \n",
        "f1.writelines(L) \n",
        "f1.close()\n",
        "\n",
        "f1 = open(\"myfile.txt\", \"r\") \n",
        "count = 0\n",
        "\n",
        "print(\"Contents of file in order:\") \n",
        "for line in f1: \n",
        "    count += 1\n",
        "    print(\"{}. {}\".format(count, line.strip()))\n",
        "    \n",
        "f1.close()"
      ],
      "execution_count": 2,
      "outputs": [
        {
          "output_type": "stream",
          "text": [
            "Contents of file in order:\n",
            "1. Data Science\n",
            "2. Advanced Programming\n",
            "3. AI and ML\n",
            "4. Full Stack Web Development\n",
            "5. Python Programming\n",
            "6. Summer Internship\n"
          ],
          "name": "stdout"
        }
      ]
    },
    {
      "cell_type": "code",
      "metadata": {
        "id": "pZ61FKBzvnXc",
        "colab_type": "code",
        "colab": {
          "base_uri": "https://localhost:8080/",
          "height": 34
        },
        "outputId": "2a7d5522-093e-44c6-995a-634c0a8b3006"
      },
      "source": [
        "#Q.no:03\n",
        "def Duplicates(listOfElems):\n",
        "    if len(list1) == len(set(list1)):\n",
        "        return False\n",
        "    else:\n",
        "        return True\n",
        "list1=[1,2,3,4,2]    \n",
        "result=Duplicates(list1)\n",
        "print(result)"
      ],
      "execution_count": 3,
      "outputs": [
        {
          "output_type": "stream",
          "text": [
            "True\n"
          ],
          "name": "stdout"
        }
      ]
    },
    {
      "cell_type": "code",
      "metadata": {
        "id": "xoK-FgjxvxTR",
        "colab_type": "code",
        "colab": {
          "base_uri": "https://localhost:8080/",
          "height": 105
        },
        "outputId": "08dd8ce0-0b88-4c33-f3fe-04e6f9fbfe54"
      },
      "source": [
        "#Q.no:04\n",
        "from fractions import Fraction as frac\n",
        "print('Add: ' + str(frac('5/4') + frac('9/8')))\n",
        "print('Subtract: ' + str(frac('15/20') - frac('2/8')))\n",
        "print('Multiply: ' + str(frac('2/3') * frac('5/7')))\n",
        "print('Divide: ' + str(frac('80/125') / frac('12/45')))\n",
        "print('Power: ' + str(frac('5/6') ** 3))"
      ],
      "execution_count": 4,
      "outputs": [
        {
          "output_type": "stream",
          "text": [
            "Add: 19/8\n",
            "Subtract: 1/2\n",
            "Multiply: 10/21\n",
            "Divide: 12/5\n",
            "Power: 125/216\n"
          ],
          "name": "stdout"
        }
      ]
    },
    {
      "cell_type": "code",
      "metadata": {
        "id": "ir96IHUXv0e2",
        "colab_type": "code",
        "colab": {
          "base_uri": "https://localhost:8080/",
          "height": 34
        },
        "outputId": "dce2a539-1cd9-49d3-adf0-798e0937f9a6"
      },
      "source": [
        "#Q.no:05\n",
        "L1=[1,2,1]\n",
        "L2=[2,1,1]\n",
        "def Permutation(list1,list2):\n",
        "    if len(list1)!= len(list2):\n",
        "         return False;\n",
        "    for i in range(0, len(list1)):\n",
        "           if list1.count(list1[i]) != list2.count(list1[i]):\n",
        "                 return False\n",
        "\n",
        "def islist_permutation(list1,list2):\n",
        "      if (Permutation(list1,list2) == False):\n",
        "        return False \n",
        "      else:\n",
        "        return True\n",
        "\n",
        "print(islist_permutation(L1,L2))"
      ],
      "execution_count": 5,
      "outputs": [
        {
          "output_type": "stream",
          "text": [
            "True\n"
          ],
          "name": "stdout"
        }
      ]
    },
    {
      "cell_type": "code",
      "metadata": {
        "id": "-6sQSh_hwNWy",
        "colab_type": "code",
        "colab": {}
      },
      "source": [
        ""
      ],
      "execution_count": 0,
      "outputs": []
    },
    {
      "cell_type": "code",
      "metadata": {
        "id": "Er7dpFyRwPJa",
        "colab_type": "code",
        "colab": {}
      },
      "source": [
        ""
      ],
      "execution_count": 0,
      "outputs": []
    },
    {
      "cell_type": "code",
      "metadata": {
        "id": "84QPqYQlwC0B",
        "colab_type": "code",
        "colab": {}
      },
      "source": [
        ""
      ],
      "execution_count": 0,
      "outputs": []
    }
  ]
}