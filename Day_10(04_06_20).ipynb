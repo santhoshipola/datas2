{
  "nbformat": 4,
  "nbformat_minor": 0,
  "metadata": {
    "colab": {
      "name": "Day 10(04.06.20).ipynb",
      "provenance": [],
      "authorship_tag": "ABX9TyMnxLLhBWHXSmLPRrRsB93L",
      "include_colab_link": true
    },
    "kernelspec": {
      "name": "python3",
      "display_name": "Python 3"
    }
  },
  "cells": [
    {
      "cell_type": "markdown",
      "metadata": {
        "id": "view-in-github",
        "colab_type": "text"
      },
      "source": [
        "<a href=\"https://colab.research.google.com/github/santhoshipola/datas2/blob/master/Day_10(04_06_20).ipynb\" target=\"_parent\"><img src=\"https://colab.research.google.com/assets/colab-badge.svg\" alt=\"Open In Colab\"/></a>"
      ]
    },
    {
      "cell_type": "code",
      "metadata": {
        "id": "eefLk4Fnbu7L",
        "colab_type": "code",
        "colab": {}
      },
      "source": [
        "###Nine lives:\n",
        "import random\n",
        "lives = 9\n",
        "heart_symbol = '\\u2764'\n",
        "words = [\"hello\",\"pizza\",\"apple\",\"mouse\",\"light\"]\n",
        "secret_word = random.choice(words)\n",
        "clue = list('?????')\n",
        "guessed_word_correctly = False\n"
      ],
      "execution_count": 0,
      "outputs": []
    },
    {
      "cell_type": "code",
      "metadata": {
        "id": "4HyHtpoUb8qu",
        "colab_type": "code",
        "colab": {}
      },
      "source": [
        "def update_clue(guessed_letter,secret_word,clue):\n",
        "  index = 0\n",
        "  while index < len(secret_word):\n",
        "    if guessed_letter == secret_word[index]:\n",
        "      clue[index] = guessed_letter\n",
        "    index += 1\n"
      ],
      "execution_count": 0,
      "outputs": []
    },
    {
      "cell_type": "code",
      "metadata": {
        "id": "GeCYx_oib8kw",
        "colab_type": "code",
        "colab": {
          "base_uri": "https://localhost:8080/",
          "height": 87
        },
        "outputId": "6273772e-f79c-447d-d85d-16c2ebe39948"
      },
      "source": [
        "while lives>0:\n",
        "  print(clue)\n",
        "  print(\"lives left:\",heart_symbol*lives)\n",
        "  guess = input(\"Enter a letter or whole word :\")\n",
        "  if guess == secret_word:\n",
        "    guessed_word_correctly = True\n",
        "    break\n",
        "  elif guess in secret_word:\n",
        "    update_clue(guess,secret_word,clue)\n",
        "  else:\n",
        "    print(\"Incorrect guess!!You lost a life\")\n",
        "    lives -= 1\n",
        "if guessed_word_correctly == True:\n",
        "  print(\"you guessed the word correctly!Secret_word is:\",secret_word)\n",
        "else:\n",
        "  print(\"your guess is wrong.Secret_word is:\",secret_word)\n"
      ],
      "execution_count": 11,
      "outputs": [
        {
          "output_type": "stream",
          "text": [
            "['a', 'p', 'p', 'l', 'e']\n",
            "lives left: ❤❤❤❤❤❤\n",
            "Enter a letter or whole word :apple\n",
            "you guessed the word correctly!Secret_word is: apple\n"
          ],
          "name": "stdout"
        }
      ]
    },
    {
      "cell_type": "markdown",
      "metadata": {
        "id": "w23G0LNNju6x",
        "colab_type": "text"
      },
      "source": [
        "#**NUMPY PACKAGE**"
      ]
    },
    {
      "cell_type": "code",
      "metadata": {
        "id": "6iTO8lt3b8gw",
        "colab_type": "code",
        "colab": {}
      },
      "source": [
        "-NUmerical Data\n",
        "-computations and numerics\n",
        "\n"
      ],
      "execution_count": 0,
      "outputs": []
    },
    {
      "cell_type": "code",
      "metadata": {
        "id": "684Cm-bQb8cV",
        "colab_type": "code",
        "colab": {}
      },
      "source": [
        "import numpy as np##Ususally np is considered as alias word"
      ],
      "execution_count": 0,
      "outputs": []
    },
    {
      "cell_type": "code",
      "metadata": {
        "id": "eTl5mTL2b8S3",
        "colab_type": "code",
        "colab": {}
      },
      "source": [
        "#Differences between numpy array and List:previous session"
      ],
      "execution_count": 0,
      "outputs": []
    },
    {
      "cell_type": "code",
      "metadata": {
        "id": "SiW0oonFb7_9",
        "colab_type": "code",
        "colab": {
          "base_uri": "https://localhost:8080/",
          "height": 34
        },
        "outputId": "e83bd03f-325b-4fb3-ae9f-889154940062"
      },
      "source": [
        "# 1-dimensional array\n",
        "a = np.array([1,2,3,4,5])\n",
        "a"
      ],
      "execution_count": 14,
      "outputs": [
        {
          "output_type": "execute_result",
          "data": {
            "text/plain": [
              "array([1, 2, 3, 4, 5])"
            ]
          },
          "metadata": {
            "tags": []
          },
          "execution_count": 14
        }
      ]
    },
    {
      "cell_type": "code",
      "metadata": {
        "id": "BaXjQ5gYb7yD",
        "colab_type": "code",
        "colab": {
          "base_uri": "https://localhost:8080/",
          "height": 70
        },
        "outputId": "f33cfdaa-c260-4340-8a9f-fbf67ea0b725"
      },
      "source": [
        "a1 = np.array([[1,2,3],[4,5,6],[7,8,9]])\n",
        "a1"
      ],
      "execution_count": 15,
      "outputs": [
        {
          "output_type": "execute_result",
          "data": {
            "text/plain": [
              "array([[1, 2, 3],\n",
              "       [4, 5, 6],\n",
              "       [7, 8, 9]])"
            ]
          },
          "metadata": {
            "tags": []
          },
          "execution_count": 15
        }
      ]
    },
    {
      "cell_type": "code",
      "metadata": {
        "id": "eeffaLzsb7tt",
        "colab_type": "code",
        "colab": {
          "base_uri": "https://localhost:8080/",
          "height": 34
        },
        "outputId": "59b2004d-2185-481d-feca-25fa6fa25351"
      },
      "source": [
        "print(a1.ndim)#gives dimension"
      ],
      "execution_count": 16,
      "outputs": [
        {
          "output_type": "stream",
          "text": [
            "2\n"
          ],
          "name": "stdout"
        }
      ]
    },
    {
      "cell_type": "code",
      "metadata": {
        "id": "RIGBrE_qlgYp",
        "colab_type": "code",
        "colab": {
          "base_uri": "https://localhost:8080/",
          "height": 34
        },
        "outputId": "aa811a1b-73d3-444e-b434-e53b6ec6f015"
      },
      "source": [
        "a1.shape#for num of rows and columns"
      ],
      "execution_count": 17,
      "outputs": [
        {
          "output_type": "execute_result",
          "data": {
            "text/plain": [
              "(3, 3)"
            ]
          },
          "metadata": {
            "tags": []
          },
          "execution_count": 17
        }
      ]
    },
    {
      "cell_type": "code",
      "metadata": {
        "id": "f22aqmPNlip6",
        "colab_type": "code",
        "colab": {
          "base_uri": "https://localhost:8080/",
          "height": 34
        },
        "outputId": "d47a4ef9-bcf8-4c63-fb7a-c1d4376ab64d"
      },
      "source": [
        "a.shape"
      ],
      "execution_count": 18,
      "outputs": [
        {
          "output_type": "execute_result",
          "data": {
            "text/plain": [
              "(5,)"
            ]
          },
          "metadata": {
            "tags": []
          },
          "execution_count": 18
        }
      ]
    },
    {
      "cell_type": "code",
      "metadata": {
        "id": "tkaG9Wtalqvx",
        "colab_type": "code",
        "colab": {
          "base_uri": "https://localhost:8080/",
          "height": 70
        },
        "outputId": "3b4e3948-b666-4580-f503-e0f7328bc7af"
      },
      "source": [
        "a2 = np.array([[1,2,3],[4,5,6],[7,8,9],[10,11,12]])\n",
        "print(a2.shape)\n",
        "print(a2.shape[0])#rows\n",
        "print(a2.shape[1])#columns"
      ],
      "execution_count": 21,
      "outputs": [
        {
          "output_type": "stream",
          "text": [
            "(4, 3)\n",
            "4\n",
            "3\n"
          ],
          "name": "stdout"
        }
      ]
    },
    {
      "cell_type": "code",
      "metadata": {
        "id": "WODAphr2l3OB",
        "colab_type": "code",
        "colab": {}
      },
      "source": [
        "a3 = np.array([1,2,3,4,5])#1d and 2d array\n",
        "a4 = np.array([[1,2,3,4],[4,5,6,7],[7,8,9,10]])"
      ],
      "execution_count": 0,
      "outputs": []
    },
    {
      "cell_type": "code",
      "metadata": {
        "id": "giOwFnzFmyeA",
        "colab_type": "code",
        "colab": {}
      },
      "source": [
        "#inserting elements into the array dynamically\n",
        "a5 = np.array([])# or np.array([],dtype = \"int32\") to make the given input as integer\n"
      ],
      "execution_count": 0,
      "outputs": []
    },
    {
      "cell_type": "code",
      "metadata": {
        "id": "u2On_4qMmyYK",
        "colab_type": "code",
        "colab": {
          "base_uri": "https://localhost:8080/",
          "height": 70
        },
        "outputId": "e412ad78-f072-4d13-cc64-5312bdd684dd"
      },
      "source": [
        "a5 = np.append(a5,int(input()))#a5 at first is necessary \n",
        "print(a5)\n",
        "a5.dtype\n"
      ],
      "execution_count": 28,
      "outputs": [
        {
          "output_type": "stream",
          "text": [
            "15\n",
            "[12. 12. 15.]\n"
          ],
          "name": "stdout"
        },
        {
          "output_type": "execute_result",
          "data": {
            "text/plain": [
              "dtype('float64')"
            ]
          },
          "metadata": {
            "tags": []
          },
          "execution_count": 28
        }
      ]
    },
    {
      "cell_type": "code",
      "metadata": {
        "id": "Ytf1BKX1myTN",
        "colab_type": "code",
        "colab": {
          "base_uri": "https://localhost:8080/",
          "height": 34
        },
        "outputId": "38262e74-5548-428e-ff7e-01ffe70da36f"
      },
      "source": [
        "a3 = np.append(a3,[23,34,56,67,89])\n",
        "a3"
      ],
      "execution_count": 30,
      "outputs": [
        {
          "output_type": "execute_result",
          "data": {
            "text/plain": [
              "array([ 1,  2,  3,  4,  5, 23, 34, 56, 67, 89, 23, 34, 56, 67, 89])"
            ]
          },
          "metadata": {
            "tags": []
          },
          "execution_count": 30
        }
      ]
    },
    {
      "cell_type": "code",
      "metadata": {
        "id": "ZNLRRB1Ynwr0",
        "colab_type": "code",
        "colab": {
          "base_uri": "https://localhost:8080/",
          "height": 87
        },
        "outputId": "fd3841de-d499-40e1-9819-c08615c774f0"
      },
      "source": [
        "a2"
      ],
      "execution_count": 31,
      "outputs": [
        {
          "output_type": "execute_result",
          "data": {
            "text/plain": [
              "array([[ 1,  2,  3],\n",
              "       [ 4,  5,  6],\n",
              "       [ 7,  8,  9],\n",
              "       [10, 11, 12]])"
            ]
          },
          "metadata": {
            "tags": []
          },
          "execution_count": 31
        }
      ]
    },
    {
      "cell_type": "code",
      "metadata": {
        "id": "nemcCZN3oV9T",
        "colab_type": "code",
        "colab": {}
      },
      "source": [
        "##Slicing:"
      ],
      "execution_count": 0,
      "outputs": []
    },
    {
      "cell_type": "code",
      "metadata": {
        "id": "p8l1hfqdoV3o",
        "colab_type": "code",
        "colab": {
          "base_uri": "https://localhost:8080/",
          "height": 34
        },
        "outputId": "acea38b8-5744-4ba9-ab5d-c6f28163c4b5"
      },
      "source": [
        "print(a5[2])"
      ],
      "execution_count": 33,
      "outputs": [
        {
          "output_type": "stream",
          "text": [
            "15.0\n"
          ],
          "name": "stdout"
        }
      ]
    },
    {
      "cell_type": "code",
      "metadata": {
        "id": "NStnVJjwoVz5",
        "colab_type": "code",
        "colab": {
          "base_uri": "https://localhost:8080/",
          "height": 34
        },
        "outputId": "cd832fbc-a1be-41fa-f9e6-58ec476c29a4"
      },
      "source": [
        "print(a2[1,1])"
      ],
      "execution_count": 34,
      "outputs": [
        {
          "output_type": "stream",
          "text": [
            "5\n"
          ],
          "name": "stdout"
        }
      ]
    },
    {
      "cell_type": "code",
      "metadata": {
        "id": "XQhFBFrBo-tu",
        "colab_type": "code",
        "colab": {
          "base_uri": "https://localhost:8080/",
          "height": 52
        },
        "outputId": "89c684ea-22f9-4811-ea04-5d8d4066f8b3"
      },
      "source": [
        "print(a2[2:,:])"
      ],
      "execution_count": 35,
      "outputs": [
        {
          "output_type": "stream",
          "text": [
            "[[ 7  8  9]\n",
            " [10 11 12]]\n"
          ],
          "name": "stdout"
        }
      ]
    },
    {
      "cell_type": "code",
      "metadata": {
        "id": "FvrYItmdpGYw",
        "colab_type": "code",
        "colab": {
          "base_uri": "https://localhost:8080/",
          "height": 52
        },
        "outputId": "07cbe526-ed9f-472a-ce80-0efde6e5b16c"
      },
      "source": [
        "print(a2[2:,0:2])#0,1 columns are considered"
      ],
      "execution_count": 36,
      "outputs": [
        {
          "output_type": "stream",
          "text": [
            "[[ 7  8]\n",
            " [10 11]]\n"
          ],
          "name": "stdout"
        }
      ]
    },
    {
      "cell_type": "code",
      "metadata": {
        "id": "m3KftmnNpQVI",
        "colab_type": "code",
        "colab": {
          "base_uri": "https://localhost:8080/",
          "height": 34
        },
        "outputId": "d77c8dd7-1d3a-4579-e042-7933cb9d0da8"
      },
      "source": [
        "print(a2[0,0:2])"
      ],
      "execution_count": 37,
      "outputs": [
        {
          "output_type": "stream",
          "text": [
            "[1 2]\n"
          ],
          "name": "stdout"
        }
      ]
    },
    {
      "cell_type": "code",
      "metadata": {
        "id": "-wAJWfcwpbNb",
        "colab_type": "code",
        "colab": {}
      },
      "source": [
        "###Iterate through array:"
      ],
      "execution_count": 0,
      "outputs": []
    },
    {
      "cell_type": "code",
      "metadata": {
        "id": "UlJQV8Oyqgz0",
        "colab_type": "code",
        "colab": {
          "base_uri": "https://localhost:8080/",
          "height": 87
        },
        "outputId": "64074fb6-8d41-409f-ef9b-245e1cb385ac"
      },
      "source": [
        "for row in a2:\n",
        "  print(row)"
      ],
      "execution_count": 41,
      "outputs": [
        {
          "output_type": "stream",
          "text": [
            "[1 2 3]\n",
            "[4 5 6]\n",
            "[7 8 9]\n",
            "[10 11 12]\n"
          ],
          "name": "stdout"
        }
      ]
    },
    {
      "cell_type": "code",
      "metadata": {
        "id": "JR_BRZp5qguv",
        "colab_type": "code",
        "colab": {
          "base_uri": "https://localhost:8080/",
          "height": 87
        },
        "outputId": "410fc600-6a16-4e2a-e027-80159a2dec12"
      },
      "source": [
        "list1 = [1,2,3,4]\n",
        "for i in list1:\n",
        "  print(i)"
      ],
      "execution_count": 42,
      "outputs": [
        {
          "output_type": "stream",
          "text": [
            "1\n",
            "2\n",
            "3\n",
            "4\n"
          ],
          "name": "stdout"
        }
      ]
    },
    {
      "cell_type": "code",
      "metadata": {
        "id": "B2tyB2HZqgQr",
        "colab_type": "code",
        "colab": {
          "base_uri": "https://localhost:8080/",
          "height": 52
        },
        "outputId": "8a3a84c0-4bba-47d1-da60-da888af82373"
      },
      "source": [
        "list1 = [[1,2],[3,4]]\n",
        "for i in list1:\n",
        "  print(i)"
      ],
      "execution_count": 43,
      "outputs": [
        {
          "output_type": "stream",
          "text": [
            "[1, 2]\n",
            "[3, 4]\n"
          ],
          "name": "stdout"
        }
      ]
    },
    {
      "cell_type": "code",
      "metadata": {
        "id": "61u_skUJsyQY",
        "colab_type": "code",
        "colab": {
          "base_uri": "https://localhost:8080/",
          "height": 34
        },
        "outputId": "54e9ac60-1103-4ae6-f12b-c881466147bb"
      },
      "source": [
        "for ele in a2.flat:#a2.flat gives all elements regardless of shape\n",
        "  print(ele,end=\" \")"
      ],
      "execution_count": 44,
      "outputs": [
        {
          "output_type": "stream",
          "text": [
            "1 2 3 4 5 6 7 8 9 10 11 12 "
          ],
          "name": "stdout"
        }
      ]
    },
    {
      "cell_type": "code",
      "metadata": {
        "id": "FYVghvtps0K0",
        "colab_type": "code",
        "colab": {
          "base_uri": "https://localhost:8080/",
          "height": 34
        },
        "outputId": "c5d62eac-1de4-4929-aabf-5232085c1cad"
      },
      "source": [
        "np.array(a2.flat)"
      ],
      "execution_count": 45,
      "outputs": [
        {
          "output_type": "execute_result",
          "data": {
            "text/plain": [
              "array([ 1,  2,  3,  4,  5,  6,  7,  8,  9, 10, 11, 12])"
            ]
          },
          "metadata": {
            "tags": []
          },
          "execution_count": 45
        }
      ]
    },
    {
      "cell_type": "code",
      "metadata": {
        "id": "liLcsyTqs0HW",
        "colab_type": "code",
        "colab": {}
      },
      "source": [
        "#Indexing with Boolean arrays"
      ],
      "execution_count": 0,
      "outputs": []
    },
    {
      "cell_type": "code",
      "metadata": {
        "id": "09d5K3A5sz_z",
        "colab_type": "code",
        "colab": {
          "base_uri": "https://localhost:8080/",
          "height": 52
        },
        "outputId": "7d894ec1-a5d6-49ef-97ce-7b2ac8a2e049"
      },
      "source": [
        "arr1 = np.arange(1,21)\n",
        "arr1"
      ],
      "execution_count": 48,
      "outputs": [
        {
          "output_type": "execute_result",
          "data": {
            "text/plain": [
              "array([ 1,  2,  3,  4,  5,  6,  7,  8,  9, 10, 11, 12, 13, 14, 15, 16, 17,\n",
              "       18, 19, 20])"
            ]
          },
          "metadata": {
            "tags": []
          },
          "execution_count": 48
        }
      ]
    },
    {
      "cell_type": "code",
      "metadata": {
        "id": "Al0SRzJVuD8l",
        "colab_type": "code",
        "colab": {
          "base_uri": "https://localhost:8080/",
          "height": 105
        },
        "outputId": "4982bb61-5006-4772-9970-d57b1cbf5cb6"
      },
      "source": [
        "arr1 = np.arange(1,21).reshape(5,4)\n",
        "arr1"
      ],
      "execution_count": 49,
      "outputs": [
        {
          "output_type": "execute_result",
          "data": {
            "text/plain": [
              "array([[ 1,  2,  3,  4],\n",
              "       [ 5,  6,  7,  8],\n",
              "       [ 9, 10, 11, 12],\n",
              "       [13, 14, 15, 16],\n",
              "       [17, 18, 19, 20]])"
            ]
          },
          "metadata": {
            "tags": []
          },
          "execution_count": 49
        }
      ]
    },
    {
      "cell_type": "code",
      "metadata": {
        "id": "Mxw5X_HfuOV4",
        "colab_type": "code",
        "colab": {
          "base_uri": "https://localhost:8080/",
          "height": 105
        },
        "outputId": "ef6a617b-190c-4c1b-bfa6-553a1619338f"
      },
      "source": [
        "result = (arr1 % 2 == 0)#to extract even numbers\n",
        "result"
      ],
      "execution_count": 52,
      "outputs": [
        {
          "output_type": "execute_result",
          "data": {
            "text/plain": [
              "array([[False,  True, False,  True],\n",
              "       [False,  True, False,  True],\n",
              "       [False,  True, False,  True],\n",
              "       [False,  True, False,  True],\n",
              "       [False,  True, False,  True]])"
            ]
          },
          "metadata": {
            "tags": []
          },
          "execution_count": 52
        }
      ]
    },
    {
      "cell_type": "code",
      "metadata": {
        "id": "YMtbA5VHuVeK",
        "colab_type": "code",
        "colab": {
          "base_uri": "https://localhost:8080/",
          "height": 34
        },
        "outputId": "6a2ec808-e4a3-454a-a5d9-aca7189131b9"
      },
      "source": [
        "arr1 [result]#boolean to normal array to get even numbers"
      ],
      "execution_count": 53,
      "outputs": [
        {
          "output_type": "execute_result",
          "data": {
            "text/plain": [
              "array([ 2,  4,  6,  8, 10, 12, 14, 16, 18, 20])"
            ]
          },
          "metadata": {
            "tags": []
          },
          "execution_count": 53
        }
      ]
    },
    {
      "cell_type": "code",
      "metadata": {
        "id": "5r6UHX_yurfI",
        "colab_type": "code",
        "colab": {}
      },
      "source": [
        "#Appending arrays"
      ],
      "execution_count": 0,
      "outputs": []
    },
    {
      "cell_type": "code",
      "metadata": {
        "id": "muMwu2pfurb7",
        "colab_type": "code",
        "colab": {
          "base_uri": "https://localhost:8080/",
          "height": 123
        },
        "outputId": "09bee015-47de-42c9-f262-3816f1b31e0a"
      },
      "source": [
        "arr1 = np.arange(1,10).reshape(3,3)\n",
        "arr2 = np.arange(11,20).reshape(3,3)\n",
        "print(np.vstack((arr1,arr2)))#vertical stacking           it accepts only one argument   so tuple is given\n"
      ],
      "execution_count": 58,
      "outputs": [
        {
          "output_type": "stream",
          "text": [
            "[[ 1  2  3]\n",
            " [ 4  5  6]\n",
            " [ 7  8  9]\n",
            " [11 12 13]\n",
            " [14 15 16]\n",
            " [17 18 19]]\n"
          ],
          "name": "stdout"
        }
      ]
    },
    {
      "cell_type": "code",
      "metadata": {
        "id": "w8LtCP6qurYp",
        "colab_type": "code",
        "colab": {
          "base_uri": "https://localhost:8080/",
          "height": 70
        },
        "outputId": "326c92bd-bed2-4afe-9c1c-1199b926be50"
      },
      "source": [
        "print(np.hstack((arr1,arr2)))#horizontal stacking                          in both sizes of arrays must be matched"
      ],
      "execution_count": 59,
      "outputs": [
        {
          "output_type": "stream",
          "text": [
            "[[ 1  2  3 11 12 13]\n",
            " [ 4  5  6 14 15 16]\n",
            " [ 7  8  9 17 18 19]]\n"
          ],
          "name": "stdout"
        }
      ]
    },
    {
      "cell_type": "code",
      "metadata": {
        "id": "sYq0LAQYwVJ_",
        "colab_type": "code",
        "colab": {}
      },
      "source": [
        "#Attributes:\n",
        "-size\n",
        "-itemsize\n",
        "-dtype\n",
        "-ndim\n",
        "-shape"
      ],
      "execution_count": 0,
      "outputs": []
    },
    {
      "cell_type": "code",
      "metadata": {
        "id": "Ig_p3oEZwcHG",
        "colab_type": "code",
        "colab": {
          "base_uri": "https://localhost:8080/",
          "height": 52
        },
        "outputId": "9c5380fa-1ab3-4426-d615-ebef4f52e413"
      },
      "source": [
        "arr = np.arange(1,11).reshape(2,5)\n",
        "arr"
      ],
      "execution_count": 60,
      "outputs": [
        {
          "output_type": "execute_result",
          "data": {
            "text/plain": [
              "array([[ 1,  2,  3,  4,  5],\n",
              "       [ 6,  7,  8,  9, 10]])"
            ]
          },
          "metadata": {
            "tags": []
          },
          "execution_count": 60
        }
      ]
    },
    {
      "cell_type": "code",
      "metadata": {
        "id": "H7DWDaPHwcFW",
        "colab_type": "code",
        "colab": {
          "base_uri": "https://localhost:8080/",
          "height": 105
        },
        "outputId": "a1134687-630a-40b3-856f-19079c12af29"
      },
      "source": [
        "print(arr.size)\n",
        "print(arr.itemsize)\n",
        "print(arr.dtype)\n",
        "print(arr.ndim)\n",
        "print(arr.shape)"
      ],
      "execution_count": 63,
      "outputs": [
        {
          "output_type": "stream",
          "text": [
            "10\n",
            "8\n",
            "int64\n",
            "2\n",
            "(2, 5)\n"
          ],
          "name": "stdout"
        }
      ]
    },
    {
      "cell_type": "code",
      "metadata": {
        "id": "MzyCtCvmwcDZ",
        "colab_type": "code",
        "colab": {}
      },
      "source": [
        "#Functions:\n",
        "-zeros\n",
        "-ones\n",
        "-full\n",
        "-eye\n",
        "-linspace\n",
        "arange\n",
        "reshape\n",
        "ravel"
      ],
      "execution_count": 0,
      "outputs": []
    },
    {
      "cell_type": "code",
      "metadata": {
        "id": "udrd33MEwcBr",
        "colab_type": "code",
        "colab": {
          "base_uri": "https://localhost:8080/",
          "height": 52
        },
        "outputId": "58c59350-c66b-463e-abbd-d3d8d526679f"
      },
      "source": [
        "z = np.zeros((2,3),dtype =\"int32\")#in output dtype should not come here\n",
        "z"
      ],
      "execution_count": 65,
      "outputs": [
        {
          "output_type": "execute_result",
          "data": {
            "text/plain": [
              "array([[0, 0, 0],\n",
              "       [0, 0, 0]], dtype=int32)"
            ]
          },
          "metadata": {
            "tags": []
          },
          "execution_count": 65
        }
      ]
    },
    {
      "cell_type": "code",
      "metadata": {
        "id": "dSda0oevwb_m",
        "colab_type": "code",
        "colab": {
          "base_uri": "https://localhost:8080/",
          "height": 70
        },
        "outputId": "73eabf26-bd58-4d43-c386-354806afeffe"
      },
      "source": [
        "o = np.ones((3,3),dtype=\"int32\")\n",
        "print(o)"
      ],
      "execution_count": 68,
      "outputs": [
        {
          "output_type": "stream",
          "text": [
            "[[1 1 1]\n",
            " [1 1 1]\n",
            " [1 1 1]]\n"
          ],
          "name": "stdout"
        }
      ]
    },
    {
      "cell_type": "code",
      "metadata": {
        "id": "7FNMJ0Uwwb96",
        "colab_type": "code",
        "colab": {
          "base_uri": "https://localhost:8080/",
          "height": 52
        },
        "outputId": "08ac2bc2-f3fc-4e5a-e0aa-34300e2dfc44"
      },
      "source": [
        "f = np.full((2,2),\"santu\")\n",
        "print(f)"
      ],
      "execution_count": 67,
      "outputs": [
        {
          "output_type": "stream",
          "text": [
            "[['santu' 'santu']\n",
            " ['santu' 'santu']]\n"
          ],
          "name": "stdout"
        }
      ]
    },
    {
      "cell_type": "code",
      "metadata": {
        "id": "7YPyRTQawb78",
        "colab_type": "code",
        "colab": {
          "base_uri": "https://localhost:8080/",
          "height": 70
        },
        "outputId": "bccc1ed5-9e97-409f-d3b8-3f05afe70ee2"
      },
      "source": [
        "#eye\n",
        "e = np.eye(3,dtype=\"int32\")\n",
        "print(e)"
      ],
      "execution_count": 71,
      "outputs": [
        {
          "output_type": "stream",
          "text": [
            "[[1 0 0]\n",
            " [0 1 0]\n",
            " [0 0 1]]\n"
          ],
          "name": "stdout"
        }
      ]
    },
    {
      "cell_type": "code",
      "metadata": {
        "id": "oujbQ8Rqwb6M",
        "colab_type": "code",
        "colab": {
          "base_uri": "https://localhost:8080/",
          "height": 34
        },
        "outputId": "2eb79b23-9948-4c88-cb53-564c53166448"
      },
      "source": [
        "#linspace()-->linear spacing elements are returned\n",
        "l = np.linspace(1,10,5)\n",
        "print(l)"
      ],
      "execution_count": 73,
      "outputs": [
        {
          "output_type": "stream",
          "text": [
            "[ 1.    3.25  5.5   7.75 10.  ]\n"
          ],
          "name": "stdout"
        }
      ]
    },
    {
      "cell_type": "code",
      "metadata": {
        "id": "LcAPoBhpwb3y",
        "colab_type": "code",
        "colab": {
          "base_uri": "https://localhost:8080/",
          "height": 34
        },
        "outputId": "e348b9d0-1a6e-4cbb-954d-09ecb4dffef2"
      },
      "source": [
        "a = np.arange(1,13,2)#range(start,stop,step)\n",
        "a"
      ],
      "execution_count": 76,
      "outputs": [
        {
          "output_type": "execute_result",
          "data": {
            "text/plain": [
              "array([ 1,  3,  5,  7,  9, 11])"
            ]
          },
          "metadata": {
            "tags": []
          },
          "execution_count": 76
        }
      ]
    },
    {
      "cell_type": "code",
      "metadata": {
        "id": "Rio60Ygkwb2M",
        "colab_type": "code",
        "colab": {
          "base_uri": "https://localhost:8080/",
          "height": 34
        },
        "outputId": "bfe8a1bc-72a3-4b5c-c00e-506f4189d0db"
      },
      "source": [
        "a.shape"
      ],
      "execution_count": 77,
      "outputs": [
        {
          "output_type": "execute_result",
          "data": {
            "text/plain": [
              "(6,)"
            ]
          },
          "metadata": {
            "tags": []
          },
          "execution_count": 77
        }
      ]
    },
    {
      "cell_type": "code",
      "metadata": {
        "id": "59vqysNnwb0f",
        "colab_type": "code",
        "colab": {
          "base_uri": "https://localhost:8080/",
          "height": 52
        },
        "outputId": "6bc5f66e-ddfd-4bc0-ec39-3f1859e2b4ce"
      },
      "source": [
        "a = a.reshape(2,3)#to reshape\n",
        "a"
      ],
      "execution_count": 79,
      "outputs": [
        {
          "output_type": "execute_result",
          "data": {
            "text/plain": [
              "array([[ 1,  3,  5],\n",
              "       [ 7,  9, 11]])"
            ]
          },
          "metadata": {
            "tags": []
          },
          "execution_count": 79
        }
      ]
    },
    {
      "cell_type": "code",
      "metadata": {
        "id": "jp_dmi1GwbyX",
        "colab_type": "code",
        "colab": {
          "base_uri": "https://localhost:8080/",
          "height": 52
        },
        "outputId": "e8d6eea8-b001-4df8-9fca-296f492f56e0"
      },
      "source": [
        "#ravel():-->flattens your array elements\n",
        "print(np.array(a.flat))\n",
        "print(a.ravel())"
      ],
      "execution_count": 82,
      "outputs": [
        {
          "output_type": "stream",
          "text": [
            "[ 1  3  5  7  9 11]\n",
            "[ 1  3  5  7  9 11]\n"
          ],
          "name": "stdout"
        }
      ]
    },
    {
      "cell_type": "code",
      "metadata": {
        "id": "8uQS-Ia20hs9",
        "colab_type": "code",
        "colab": {}
      },
      "source": [
        "#Function:\n",
        "min()\n",
        "max()\n",
        "sum()\n",
        "sqrt()\n",
        "mean()\n",
        "median()#numpy donot have mode function\n",
        "std()"
      ],
      "execution_count": 0,
      "outputs": []
    },
    {
      "cell_type": "code",
      "metadata": {
        "id": "GrOsfKLW0hmU",
        "colab_type": "code",
        "colab": {
          "base_uri": "https://localhost:8080/",
          "height": 52
        },
        "outputId": "7a485684-e9c2-45f4-f8e6-b7f4081c66d4"
      },
      "source": [
        "print(a)"
      ],
      "execution_count": 84,
      "outputs": [
        {
          "output_type": "stream",
          "text": [
            "[[ 1  3  5]\n",
            " [ 7  9 11]]\n"
          ],
          "name": "stdout"
        }
      ]
    },
    {
      "cell_type": "code",
      "metadata": {
        "id": "RfGMCwyp0hhw",
        "colab_type": "code",
        "colab": {
          "base_uri": "https://localhost:8080/",
          "height": 52
        },
        "outputId": "5e5629b0-3d05-4469-cf73-e03bcd041121"
      },
      "source": [
        "print(a.min())\n",
        "print(a.max())"
      ],
      "execution_count": 85,
      "outputs": [
        {
          "output_type": "stream",
          "text": [
            "1\n",
            "11\n"
          ],
          "name": "stdout"
        }
      ]
    },
    {
      "cell_type": "code",
      "metadata": {
        "id": "j4E_Jxys0hdI",
        "colab_type": "code",
        "colab": {
          "base_uri": "https://localhost:8080/",
          "height": 34
        },
        "outputId": "1d3ea8dd-9b27-4db3-f707-d448904c7237"
      },
      "source": [
        "print(a.sum())##sum of all elements of the arrrray"
      ],
      "execution_count": 86,
      "outputs": [
        {
          "output_type": "stream",
          "text": [
            "36\n"
          ],
          "name": "stdout"
        }
      ]
    },
    {
      "cell_type": "code",
      "metadata": {
        "id": "ZWqlzipV2IDC",
        "colab_type": "code",
        "colab": {
          "base_uri": "https://localhost:8080/",
          "height": 52
        },
        "outputId": "131d677a-4cf5-4806-8776-da6921382031"
      },
      "source": [
        "print(a.sum(axis=1))#sum of row elements\n",
        "print(a.sum(axis=0))#sum of column elements"
      ],
      "execution_count": 88,
      "outputs": [
        {
          "output_type": "stream",
          "text": [
            "[ 9 27]\n",
            "[ 8 12 16]\n"
          ],
          "name": "stdout"
        }
      ]
    },
    {
      "cell_type": "code",
      "metadata": {
        "id": "ITqottel2IBR",
        "colab_type": "code",
        "colab": {
          "base_uri": "https://localhost:8080/",
          "height": 52
        },
        "outputId": "0ef08031-ec29-41a4-f1e4-ed3bd90cade2"
      },
      "source": [
        "np.sqrt(a)"
      ],
      "execution_count": 89,
      "outputs": [
        {
          "output_type": "execute_result",
          "data": {
            "text/plain": [
              "array([[1.        , 1.73205081, 2.23606798],\n",
              "       [2.64575131, 3.        , 3.31662479]])"
            ]
          },
          "metadata": {
            "tags": []
          },
          "execution_count": 89
        }
      ]
    },
    {
      "cell_type": "code",
      "metadata": {
        "id": "xP6o_LSh2H_L",
        "colab_type": "code",
        "colab": {
          "base_uri": "https://localhost:8080/",
          "height": 34
        },
        "outputId": "a4041912-8a90-41bb-e3d8-ffd1db8e3791"
      },
      "source": [
        "np.mean(a)"
      ],
      "execution_count": 90,
      "outputs": [
        {
          "output_type": "execute_result",
          "data": {
            "text/plain": [
              "6.0"
            ]
          },
          "metadata": {
            "tags": []
          },
          "execution_count": 90
        }
      ]
    },
    {
      "cell_type": "code",
      "metadata": {
        "id": "_rhHpRRJ2H9g",
        "colab_type": "code",
        "colab": {
          "base_uri": "https://localhost:8080/",
          "height": 34
        },
        "outputId": "0e624068-9258-4495-cee5-7feb8dc6bdf5"
      },
      "source": [
        "np.median(a)"
      ],
      "execution_count": 91,
      "outputs": [
        {
          "output_type": "execute_result",
          "data": {
            "text/plain": [
              "6.0"
            ]
          },
          "metadata": {
            "tags": []
          },
          "execution_count": 91
        }
      ]
    },
    {
      "cell_type": "code",
      "metadata": {
        "id": "f4OPkFQI2H7q",
        "colab_type": "code",
        "colab": {
          "base_uri": "https://localhost:8080/",
          "height": 34
        },
        "outputId": "3caaaa8b-6dbd-4e4a-eecd-44776c7d93c2"
      },
      "source": [
        "np.std(a)##standard deviation"
      ],
      "execution_count": 92,
      "outputs": [
        {
          "output_type": "execute_result",
          "data": {
            "text/plain": [
              "3.415650255319866"
            ]
          },
          "metadata": {
            "tags": []
          },
          "execution_count": 92
        }
      ]
    },
    {
      "cell_type": "code",
      "metadata": {
        "id": "dQv8ln3S2H53",
        "colab_type": "code",
        "colab": {}
      },
      "source": [
        "#######Mathematical operations:\n",
        "+,-,*,/,%"
      ],
      "execution_count": 0,
      "outputs": []
    },
    {
      "cell_type": "code",
      "metadata": {
        "id": "tTumkecf2H37",
        "colab_type": "code",
        "colab": {
          "base_uri": "https://localhost:8080/",
          "height": 123
        },
        "outputId": "d0696c1a-4b79-4753-d27a-ec840d99925d"
      },
      "source": [
        "a6 = np.arange(1,11) \n",
        "a7 = np.arange(11,21)\n",
        "print(a6 + a7)\n",
        "print(a6 - a7)\n",
        "print(a6 * a7)\n",
        "print(a6 / a7)\n",
        "print(a6 % a7)\n"
      ],
      "execution_count": 96,
      "outputs": [
        {
          "output_type": "stream",
          "text": [
            "[12 14 16 18 20 22 24 26 28 30]\n",
            "[-10 -10 -10 -10 -10 -10 -10 -10 -10 -10]\n",
            "[ 11  24  39  56  75  96 119 144 171 200]\n",
            "[0.09090909 0.16666667 0.23076923 0.28571429 0.33333333 0.375\n",
            " 0.41176471 0.44444444 0.47368421 0.5       ]\n",
            "[ 1  2  3  4  5  6  7  8  9 10]\n"
          ],
          "name": "stdout"
        }
      ]
    },
    {
      "cell_type": "code",
      "metadata": {
        "id": "lWv6pIwj2H2B",
        "colab_type": "code",
        "colab": {}
      },
      "source": [
        "#dot()-->Matrix multiplication\n",
        "#arr1 = m x n\n",
        "#arr2 = n x l"
      ],
      "execution_count": 0,
      "outputs": []
    },
    {
      "cell_type": "code",
      "metadata": {
        "id": "yE3uQpDb2Hzn",
        "colab_type": "code",
        "colab": {
          "base_uri": "https://localhost:8080/",
          "height": 70
        },
        "outputId": "e130673c-8aad-496e-f5bf-16854068a8a6"
      },
      "source": [
        "arr1 = np.arange(1,10).reshape(3,3)\n",
        "arr2 = np.arange(11,20).reshape(3,3)\n",
        "arr1.dot(arr2)"
      ],
      "execution_count": 97,
      "outputs": [
        {
          "output_type": "execute_result",
          "data": {
            "text/plain": [
              "array([[ 90,  96, 102],\n",
              "       [216, 231, 246],\n",
              "       [342, 366, 390]])"
            ]
          },
          "metadata": {
            "tags": []
          },
          "execution_count": 97
        }
      ]
    },
    {
      "cell_type": "code",
      "metadata": {
        "id": "UF26jmMT2HwS",
        "colab_type": "code",
        "colab": {
          "base_uri": "https://localhost:8080/",
          "height": 70
        },
        "outputId": "ce17cebe-d2fd-4675-ebc2-611a75dee5c9"
      },
      "source": [
        "arr1"
      ],
      "execution_count": 98,
      "outputs": [
        {
          "output_type": "execute_result",
          "data": {
            "text/plain": [
              "array([[1, 2, 3],\n",
              "       [4, 5, 6],\n",
              "       [7, 8, 9]])"
            ]
          },
          "metadata": {
            "tags": []
          },
          "execution_count": 98
        }
      ]
    },
    {
      "cell_type": "code",
      "metadata": {
        "id": "CQE3Ew7V6aen",
        "colab_type": "code",
        "colab": {
          "base_uri": "https://localhost:8080/",
          "height": 70
        },
        "outputId": "43245f23-acfc-4dbd-b6f2-6dd2fe247699"
      },
      "source": [
        "arr1.T#transpose of an array"
      ],
      "execution_count": 99,
      "outputs": [
        {
          "output_type": "execute_result",
          "data": {
            "text/plain": [
              "array([[1, 4, 7],\n",
              "       [2, 5, 8],\n",
              "       [3, 6, 9]])"
            ]
          },
          "metadata": {
            "tags": []
          },
          "execution_count": 99
        }
      ]
    },
    {
      "cell_type": "code",
      "metadata": {
        "id": "bfgqKfvB6abH",
        "colab_type": "code",
        "colab": {}
      },
      "source": [
        "#Applying user defined functions:"
      ],
      "execution_count": 0,
      "outputs": []
    },
    {
      "cell_type": "code",
      "metadata": {
        "id": "S-E2QAwx6ph2",
        "colab_type": "code",
        "colab": {
          "base_uri": "https://localhost:8080/",
          "height": 34
        },
        "outputId": "d4db9c1c-ddd7-4dbc-d844-f71045bdebda"
      },
      "source": [
        "list1 = list(range(1,20))\n",
        "list1"
      ],
      "execution_count": 100,
      "outputs": [
        {
          "output_type": "execute_result",
          "data": {
            "text/plain": [
              "[1, 2, 3, 4, 5, 6, 7, 8, 9, 10, 11, 12, 13, 14, 15, 16, 17, 18, 19]"
            ]
          },
          "metadata": {
            "tags": []
          },
          "execution_count": 100
        }
      ]
    },
    {
      "cell_type": "code",
      "metadata": {
        "id": "bDGskluq8dBQ",
        "colab_type": "code",
        "colab": {
          "base_uri": "https://localhost:8080/",
          "height": 52
        },
        "outputId": "0e0d5d15-75ac-444b-b5c1-2cd0773826d2"
      },
      "source": [
        "a = np.array(list1)\n",
        "a"
      ],
      "execution_count": 103,
      "outputs": [
        {
          "output_type": "execute_result",
          "data": {
            "text/plain": [
              "array([ 1,  2,  3,  4,  5,  6,  7,  8,  9, 10, 11, 12, 13, 14, 15, 16, 17,\n",
              "       18, 19])"
            ]
          },
          "metadata": {
            "tags": []
          },
          "execution_count": 103
        }
      ]
    },
    {
      "cell_type": "code",
      "metadata": {
        "id": "LOryXS5S6pbi",
        "colab_type": "code",
        "colab": {}
      },
      "source": [
        "x/(x+1)-->1/(1+1)"
      ],
      "execution_count": 0,
      "outputs": []
    },
    {
      "cell_type": "code",
      "metadata": {
        "id": "astwoXAN6pU0",
        "colab_type": "code",
        "colab": {
          "base_uri": "https://localhost:8080/",
          "height": 354
        },
        "outputId": "00687b54-b270-497e-a876-b9bcbf40f472"
      },
      "source": [
        "result =  [x/(x+1) for x in list1]\n",
        "result"
      ],
      "execution_count": 102,
      "outputs": [
        {
          "output_type": "execute_result",
          "data": {
            "text/plain": [
              "[0.5,\n",
              " 0.6666666666666666,\n",
              " 0.75,\n",
              " 0.8,\n",
              " 0.8333333333333334,\n",
              " 0.8571428571428571,\n",
              " 0.875,\n",
              " 0.8888888888888888,\n",
              " 0.9,\n",
              " 0.9090909090909091,\n",
              " 0.9166666666666666,\n",
              " 0.9230769230769231,\n",
              " 0.9285714285714286,\n",
              " 0.9333333333333333,\n",
              " 0.9375,\n",
              " 0.9411764705882353,\n",
              " 0.9444444444444444,\n",
              " 0.9473684210526315,\n",
              " 0.95]"
            ]
          },
          "metadata": {
            "tags": []
          },
          "execution_count": 102
        }
      ]
    },
    {
      "cell_type": "code",
      "metadata": {
        "id": "0piVta-66pP0",
        "colab_type": "code",
        "colab": {
          "base_uri": "https://localhost:8080/",
          "height": 87
        },
        "outputId": "1f85f4cd-c5b6-444c-83fe-7474c74e98e9"
      },
      "source": [
        "f = np.vectorize(lambda x:x/(x+1))\n",
        "f(a)"
      ],
      "execution_count": 104,
      "outputs": [
        {
          "output_type": "execute_result",
          "data": {
            "text/plain": [
              "array([0.5       , 0.66666667, 0.75      , 0.8       , 0.83333333,\n",
              "       0.85714286, 0.875     , 0.88888889, 0.9       , 0.90909091,\n",
              "       0.91666667, 0.92307692, 0.92857143, 0.93333333, 0.9375    ,\n",
              "       0.94117647, 0.94444444, 0.94736842, 0.95      ])"
            ]
          },
          "metadata": {
            "tags": []
          },
          "execution_count": 104
        }
      ]
    },
    {
      "cell_type": "code",
      "metadata": {
        "id": "re7dtZm99QjT",
        "colab_type": "code",
        "colab": {}
      },
      "source": [
        "help(np.linalg)"
      ],
      "execution_count": 0,
      "outputs": []
    },
    {
      "cell_type": "code",
      "metadata": {
        "id": "ijZ_QMnS6aYB",
        "colab_type": "code",
        "colab": {}
      },
      "source": [
        "help(np.random)"
      ],
      "execution_count": 0,
      "outputs": []
    },
    {
      "cell_type": "code",
      "metadata": {
        "id": "r1kavpfR89yS",
        "colab_type": "code",
        "colab": {}
      },
      "source": [
        ""
      ],
      "execution_count": 0,
      "outputs": []
    },
    {
      "cell_type": "code",
      "metadata": {
        "id": "q2qiwLml893D",
        "colab_type": "code",
        "colab": {}
      },
      "source": [
        ""
      ],
      "execution_count": 0,
      "outputs": []
    },
    {
      "cell_type": "code",
      "metadata": {
        "id": "LMVAJeug898q",
        "colab_type": "code",
        "colab": {}
      },
      "source": [
        ""
      ],
      "execution_count": 0,
      "outputs": []
    },
    {
      "cell_type": "code",
      "metadata": {
        "id": "kMtErGCC8-F_",
        "colab_type": "code",
        "colab": {}
      },
      "source": [
        ""
      ],
      "execution_count": 0,
      "outputs": []
    },
    {
      "cell_type": "code",
      "metadata": {
        "id": "SbhWQ7Ic8-PP",
        "colab_type": "code",
        "colab": {}
      },
      "source": [
        ""
      ],
      "execution_count": 0,
      "outputs": []
    },
    {
      "cell_type": "code",
      "metadata": {
        "id": "vDN3IfEC8-XW",
        "colab_type": "code",
        "colab": {}
      },
      "source": [
        ""
      ],
      "execution_count": 0,
      "outputs": []
    },
    {
      "cell_type": "code",
      "metadata": {
        "id": "UK62cRNj89vO",
        "colab_type": "code",
        "colab": {}
      },
      "source": [
        ""
      ],
      "execution_count": 0,
      "outputs": []
    }
  ]
}