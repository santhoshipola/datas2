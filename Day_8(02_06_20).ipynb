{
  "nbformat": 4,
  "nbformat_minor": 0,
  "metadata": {
    "colab": {
      "name": "Day 8(02.06.20).ipynb",
      "provenance": [],
      "authorship_tag": "ABX9TyPBvdxsJjIOKUcje0NmgQVd",
      "include_colab_link": true
    },
    "kernelspec": {
      "name": "python3",
      "display_name": "Python 3"
    }
  },
  "cells": [
    {
      "cell_type": "markdown",
      "metadata": {
        "id": "view-in-github",
        "colab_type": "text"
      },
      "source": [
        "<a href=\"https://colab.research.google.com/github/santhoshipola/datas2/blob/master/Day_8(02_06_20).ipynb\" target=\"_parent\"><img src=\"https://colab.research.google.com/assets/colab-badge.svg\" alt=\"Open In Colab\"/></a>"
      ]
    },
    {
      "cell_type": "code",
      "metadata": {
        "id": "GbxObNQnCZLA",
        "colab_type": "code",
        "colab": {}
      },
      "source": [
        "#Q.no:05    30.05.20 assignment\n",
        "##folder-->5 files-->unique file names-->size is 512bits\n",
        "import os\n",
        "import string\n",
        "import random\n",
        "os.mkdir(\"python class\")#creates a folder in present working directory\n",
        "for i in range(5):\n",
        "  file_name = \"copy path from pwd and paste it here\\\\python class\\\\file%d\"%(i)\n",
        "  f = open(file_name,\"a\")\n",
        "  data = \" \"#empty string\n",
        "  for i in range(512):\n",
        "\n",
        "    data = data + random.choice(string.ascii_letters)#adding data to previous string\n",
        "  f.write(data)\n",
        "  f.close()\n",
        "  \n",
        "\n",
        "\n"
      ],
      "execution_count": 0,
      "outputs": []
    },
    {
      "cell_type": "code",
      "metadata": {
        "id": "QFFBQGrqQyOz",
        "colab_type": "code",
        "colab": {
          "base_uri": "https://localhost:8080/",
          "height": 34
        },
        "outputId": "35299311-04c4-443c-b400-2e877b9f19ff"
      },
      "source": [
        "pwd#to check th present working directory\n"
      ],
      "execution_count": 2,
      "outputs": [
        {
          "output_type": "execute_result",
          "data": {
            "text/plain": [
              "'/content'"
            ]
          },
          "metadata": {
            "tags": []
          },
          "execution_count": 2
        }
      ]
    },
    {
      "cell_type": "code",
      "metadata": {
        "id": "B06fKLMyQ3a5",
        "colab_type": "code",
        "colab": {
          "base_uri": "https://localhost:8080/",
          "height": 34
        },
        "outputId": "f17c6b4a-f500-41f1-91f5-88d63ff4f582"
      },
      "source": [
        "import random\n",
        "import string\n",
        "data = \" \"\n",
        "for i in range(5):\n",
        "  data = data + random.choice(string.ascii_letters)\n",
        "data"
      ],
      "execution_count": 5,
      "outputs": [
        {
          "output_type": "execute_result",
          "data": {
            "text/plain": [
              "' hiEir'"
            ]
          },
          "metadata": {
            "tags": []
          },
          "execution_count": 5
        }
      ]
    },
    {
      "cell_type": "code",
      "metadata": {
        "id": "yNDJMnIPUe2w",
        "colab_type": "code",
        "colab": {
          "base_uri": "https://localhost:8080/",
          "height": 34
        },
        "outputId": "9e2d00a7-fa34-478b-88b5-3667a1442983"
      },
      "source": [
        "list1 = list(range(1,11))\n",
        "list1"
      ],
      "execution_count": 6,
      "outputs": [
        {
          "output_type": "execute_result",
          "data": {
            "text/plain": [
              "[1, 2, 3, 4, 5, 6, 7, 8, 9, 10]"
            ]
          },
          "metadata": {
            "tags": []
          },
          "execution_count": 6
        }
      ]
    },
    {
      "cell_type": "code",
      "metadata": {
        "id": "sjt8UD_OW2Qb",
        "colab_type": "code",
        "colab": {
          "base_uri": "https://localhost:8080/",
          "height": 34
        },
        "outputId": "43d48f18-1984-452b-ac39-7e92008c64c7"
      },
      "source": [
        "#create another list with only even elemnts\n",
        "list2 = []\n",
        "for i in list1:\n",
        "  if i%2 == 0:\n",
        "    list2.append(i)\n",
        "print(list2)\n"
      ],
      "execution_count": 7,
      "outputs": [
        {
          "output_type": "stream",
          "text": [
            "[2, 4, 6, 8, 10]\n"
          ],
          "name": "stdout"
        }
      ]
    },
    {
      "cell_type": "code",
      "metadata": {
        "id": "lA-3Qi1lW2PG",
        "colab_type": "code",
        "colab": {
          "base_uri": "https://localhost:8080/",
          "height": 34
        },
        "outputId": "10e656e4-040d-4b33-b0f9-8efda90ee688"
      },
      "source": [
        "#using list comprehension\n",
        "list3 = [i for i in list1 if i%2 == 0]\n",
        "print(list3)\n"
      ],
      "execution_count": 8,
      "outputs": [
        {
          "output_type": "stream",
          "text": [
            "[2, 4, 6, 8, 10]\n"
          ],
          "name": "stdout"
        }
      ]
    },
    {
      "cell_type": "code",
      "metadata": {
        "id": "yXgaMoe1W2Nl",
        "colab_type": "code",
        "colab": {
          "base_uri": "https://localhost:8080/",
          "height": 52
        },
        "outputId": "651936a0-e94e-4a57-eb58-273e3fddc4b2"
      },
      "source": [
        "#input : \"hello 12345\"  accept string as an input and print all digits and count of the digits\n",
        "#output : ['1','2','3','4','5'],5\n",
        "s = input(\"enter the string:\")\n",
        "list4 = [ch for ch in s if ch.isdigit()]\n",
        "print(list4,len(list4))"
      ],
      "execution_count": 10,
      "outputs": [
        {
          "output_type": "stream",
          "text": [
            "enter the string:hello 12345\n",
            "['1', '2', '3', '4', '5'] 5\n"
          ],
          "name": "stdout"
        }
      ]
    },
    {
      "cell_type": "code",
      "metadata": {
        "id": "GiNaFeGLW2MR",
        "colab_type": "code",
        "colab": {
          "base_uri": "https://localhost:8080/",
          "height": 34
        },
        "outputId": "f69eab8e-e817-4ca3-b097-6e478f1a20c3"
      },
      "source": [
        "list5 = list(range(1,11))#output should be sum of each elements in lists\n",
        "list6 = list(range(11,21))\n",
        "print(list5,list6)"
      ],
      "execution_count": 11,
      "outputs": [
        {
          "output_type": "stream",
          "text": [
            "[1, 2, 3, 4, 5, 6, 7, 8, 9, 10] [11, 12, 13, 14, 15, 16, 17, 18, 19, 20]\n"
          ],
          "name": "stdout"
        }
      ]
    },
    {
      "cell_type": "code",
      "metadata": {
        "id": "h6-qtE-_W2K8",
        "colab_type": "code",
        "colab": {
          "base_uri": "https://localhost:8080/",
          "height": 34
        },
        "outputId": "b173e545-ccb5-48b0-81ef-85b1c3c00947"
      },
      "source": [
        "list7 = [list5[i]+list6[i] for i in range(len(list5))]\n",
        "print(list7)"
      ],
      "execution_count": 14,
      "outputs": [
        {
          "output_type": "stream",
          "text": [
            "[12, 14, 16, 18, 20, 22, 24, 26, 28, 30]\n"
          ],
          "name": "stdout"
        }
      ]
    },
    {
      "cell_type": "code",
      "metadata": {
        "id": "6P0ncxntW2Jk",
        "colab_type": "code",
        "colab": {
          "base_uri": "https://localhost:8080/",
          "height": 34
        },
        "outputId": "86a2a60d-b22a-48fb-a086-a4a451bf48f3"
      },
      "source": [
        "#zip()\n",
        "result = [x+y for x,y in zip(list5,list6)]#zip is used when we have to use multiple iterations\n",
        "\n",
        "result"
      ],
      "execution_count": 15,
      "outputs": [
        {
          "output_type": "execute_result",
          "data": {
            "text/plain": [
              "[12, 14, 16, 18, 20, 22, 24, 26, 28, 30]"
            ]
          },
          "metadata": {
            "tags": []
          },
          "execution_count": 15
        }
      ]
    },
    {
      "cell_type": "code",
      "metadata": {
        "id": "YOvifZhCW2IN",
        "colab_type": "code",
        "colab": {}
      },
      "source": [
        "#ananymous functions or lambda functions(created by the keyword lambda)\n",
        "         lambda arguments :logic                      #syntax"
      ],
      "execution_count": 0,
      "outputs": []
    },
    {
      "cell_type": "code",
      "metadata": {
        "id": "l83033OzW2G7",
        "colab_type": "code",
        "colab": {}
      },
      "source": [
        "s = lambda x : x**2"
      ],
      "execution_count": 0,
      "outputs": []
    },
    {
      "cell_type": "code",
      "metadata": {
        "id": "SyDKplu4W2FY",
        "colab_type": "code",
        "colab": {
          "base_uri": "https://localhost:8080/",
          "height": 34
        },
        "outputId": "ff6566a1-923e-4265-ebf6-56e8cde71e48"
      },
      "source": [
        "s(12)"
      ],
      "execution_count": 19,
      "outputs": [
        {
          "output_type": "execute_result",
          "data": {
            "text/plain": [
              "144"
            ]
          },
          "metadata": {
            "tags": []
          },
          "execution_count": 19
        }
      ]
    },
    {
      "cell_type": "code",
      "metadata": {
        "id": "Nl6SH7FoW2Dx",
        "colab_type": "code",
        "colab": {
          "base_uri": "https://localhost:8080/",
          "height": 34
        },
        "outputId": "f849448a-f070-4e66-a5d6-e0dc0adbc058"
      },
      "source": [
        "add = lambda x,y : x+y\n",
        "add(12,20)"
      ],
      "execution_count": 17,
      "outputs": [
        {
          "output_type": "execute_result",
          "data": {
            "text/plain": [
              "32"
            ]
          },
          "metadata": {
            "tags": []
          },
          "execution_count": 17
        }
      ]
    },
    {
      "cell_type": "code",
      "metadata": {
        "id": "xf2GG_OOezBA",
        "colab_type": "code",
        "colab": {}
      },
      "source": [
        "##map()"
      ],
      "execution_count": 0,
      "outputs": []
    },
    {
      "cell_type": "code",
      "metadata": {
        "id": "BI2r9ErcfDXA",
        "colab_type": "code",
        "colab": {
          "base_uri": "https://localhost:8080/",
          "height": 34
        },
        "outputId": "538e56a6-be63-40d6-c460-894fca4f8785"
      },
      "source": [
        "list6 = list(range(1,11))\n",
        "list6"
      ],
      "execution_count": 20,
      "outputs": [
        {
          "output_type": "execute_result",
          "data": {
            "text/plain": [
              "[1, 2, 3, 4, 5, 6, 7, 8, 9, 10]"
            ]
          },
          "metadata": {
            "tags": []
          },
          "execution_count": 20
        }
      ]
    },
    {
      "cell_type": "code",
      "metadata": {
        "id": "GEwKTJykfDUs",
        "colab_type": "code",
        "colab": {
          "base_uri": "https://localhost:8080/",
          "height": 34
        },
        "outputId": "3acb2a8f-288d-486f-bcd3-c32a59c47a5e"
      },
      "source": [
        "list7 = [i*2 for i in list6]#by list comprehension\n",
        "result"
      ],
      "execution_count": 24,
      "outputs": [
        {
          "output_type": "execute_result",
          "data": {
            "text/plain": [
              "[12, 14, 16, 18, 20, 22, 24, 26, 28, 30]"
            ]
          },
          "metadata": {
            "tags": []
          },
          "execution_count": 24
        }
      ]
    },
    {
      "cell_type": "code",
      "metadata": {
        "id": "B2VpPjYAf2-s",
        "colab_type": "code",
        "colab": {}
      },
      "source": [
        "map(function_name,iterable object)"
      ],
      "execution_count": 0,
      "outputs": []
    },
    {
      "cell_type": "code",
      "metadata": {
        "id": "rkbAxQN8fDSQ",
        "colab_type": "code",
        "colab": {
          "base_uri": "https://localhost:8080/",
          "height": 34
        },
        "outputId": "70e102a9-5134-4c28-a398-9b4e85343848"
      },
      "source": [
        "res = map(lambda i : i*2,list6)\n",
        "res#we get map object"
      ],
      "execution_count": 22,
      "outputs": [
        {
          "output_type": "execute_result",
          "data": {
            "text/plain": [
              "<map at 0x7f4e4221c7b8>"
            ]
          },
          "metadata": {
            "tags": []
          },
          "execution_count": 22
        }
      ]
    },
    {
      "cell_type": "code",
      "metadata": {
        "id": "glhrzhw4fDPG",
        "colab_type": "code",
        "colab": {
          "base_uri": "https://localhost:8080/",
          "height": 34
        },
        "outputId": "3e73d607-f6dd-4229-d70b-0a1186eb7b90"
      },
      "source": [
        "res = list(map(lambda i : i*2,list6))\n",
        "res"
      ],
      "execution_count": 23,
      "outputs": [
        {
          "output_type": "execute_result",
          "data": {
            "text/plain": [
              "[2, 4, 6, 8, 10, 12, 14, 16, 18, 20]"
            ]
          },
          "metadata": {
            "tags": []
          },
          "execution_count": 23
        }
      ]
    },
    {
      "cell_type": "code",
      "metadata": {
        "id": "VVIwyIhRgay7",
        "colab_type": "code",
        "colab": {
          "base_uri": "https://localhost:8080/",
          "height": 34
        },
        "outputId": "53ba17d2-24c4-4761-f79f-8735bf0bed34"
      },
      "source": [
        "'10 20 30'.split()"
      ],
      "execution_count": 25,
      "outputs": [
        {
          "output_type": "execute_result",
          "data": {
            "text/plain": [
              "['10', '20', '30']"
            ]
          },
          "metadata": {
            "tags": []
          },
          "execution_count": 25
        }
      ]
    },
    {
      "cell_type": "code",
      "metadata": {
        "id": "vyWmX57RhFAN",
        "colab_type": "code",
        "colab": {
          "base_uri": "https://localhost:8080/",
          "height": 52
        },
        "outputId": "0a0a4e08-f5ab-4ff0-d1b7-b8360c4c9120"
      },
      "source": [
        "#unpacking\n",
        "x,y,z = list(map(int,input(\"enter your input:\").split())) #converting to int\n",
        "print(x,y,z)"
      ],
      "execution_count": 30,
      "outputs": [
        {
          "output_type": "stream",
          "text": [
            "enter your input:10 20 30 \n",
            "10 20 30\n"
          ],
          "name": "stdout"
        }
      ]
    },
    {
      "cell_type": "code",
      "metadata": {
        "id": "bw4Wt6RMhQjH",
        "colab_type": "code",
        "colab": {}
      },
      "source": [
        "##Filter():"
      ],
      "execution_count": 0,
      "outputs": []
    },
    {
      "cell_type": "code",
      "metadata": {
        "id": "k-_W-nqfigke",
        "colab_type": "code",
        "colab": {
          "base_uri": "https://localhost:8080/",
          "height": 34
        },
        "outputId": "111750d3-2e57-482a-a8de-44b367c63ec9"
      },
      "source": [
        "list6"
      ],
      "execution_count": 31,
      "outputs": [
        {
          "output_type": "execute_result",
          "data": {
            "text/plain": [
              "[1, 2, 3, 4, 5, 6, 7, 8, 9, 10]"
            ]
          },
          "metadata": {
            "tags": []
          },
          "execution_count": 31
        }
      ]
    },
    {
      "cell_type": "code",
      "metadata": {
        "id": "SJJUcgTvigg-",
        "colab_type": "code",
        "colab": {
          "base_uri": "https://localhost:8080/",
          "height": 34
        },
        "outputId": "f4a39399-962f-4381-f8f3-8c797a8824c2"
      },
      "source": [
        "result = []\n",
        "for i in list6:\n",
        "  if i%5 == 0:\n",
        "    result.append(i)\n",
        "result"
      ],
      "execution_count": 32,
      "outputs": [
        {
          "output_type": "execute_result",
          "data": {
            "text/plain": [
              "[5, 10]"
            ]
          },
          "metadata": {
            "tags": []
          },
          "execution_count": 32
        }
      ]
    },
    {
      "cell_type": "code",
      "metadata": {
        "id": "ZGDRgi5wi2JL",
        "colab_type": "code",
        "colab": {
          "base_uri": "https://localhost:8080/",
          "height": 34
        },
        "outputId": "4560dcf8-4a9a-4a5c-e43c-3dd4c60ef948"
      },
      "source": [
        "filter(lambda x : (x%5 == 0),list6)"
      ],
      "execution_count": 33,
      "outputs": [
        {
          "output_type": "execute_result",
          "data": {
            "text/plain": [
              "<filter at 0x7f4e421dce48>"
            ]
          },
          "metadata": {
            "tags": []
          },
          "execution_count": 33
        }
      ]
    },
    {
      "cell_type": "code",
      "metadata": {
        "id": "B0AT0F-Ti2Fx",
        "colab_type": "code",
        "colab": {
          "base_uri": "https://localhost:8080/",
          "height": 34
        },
        "outputId": "b80d08c6-bf73-4b60-ee21-afc67464caed"
      },
      "source": [
        "list(filter(lambda x : (x%5 == 0),list6))#filter should always return true or false"
      ],
      "execution_count": 34,
      "outputs": [
        {
          "output_type": "execute_result",
          "data": {
            "text/plain": [
              "[5, 10]"
            ]
          },
          "metadata": {
            "tags": []
          },
          "execution_count": 34
        }
      ]
    },
    {
      "cell_type": "code",
      "metadata": {
        "id": "qV8vx3tIi2Be",
        "colab_type": "code",
        "colab": {}
      },
      "source": [
        "Reduce()"
      ],
      "execution_count": 0,
      "outputs": []
    },
    {
      "cell_type": "code",
      "metadata": {
        "id": "aVVgfAotigfJ",
        "colab_type": "code",
        "colab": {}
      },
      "source": [
        "from functools import reduce#should be imported while using reduce            functools is module name and reduce is a method used\n"
      ],
      "execution_count": 0,
      "outputs": []
    },
    {
      "cell_type": "code",
      "metadata": {
        "id": "qJwr6AHXkUqr",
        "colab_type": "code",
        "colab": {
          "base_uri": "https://localhost:8080/",
          "height": 34
        },
        "outputId": "6eaecb3e-1049-4c76-f16e-0af3c4a7423e"
      },
      "source": [
        "list1 = [1,2,3,4,5]\n",
        "#output:120\n",
        "m= 1\n",
        "for i in list1:\n",
        "  m *= i\n",
        "print(m)"
      ],
      "execution_count": 35,
      "outputs": [
        {
          "output_type": "stream",
          "text": [
            "120\n"
          ],
          "name": "stdout"
        }
      ]
    },
    {
      "cell_type": "code",
      "metadata": {
        "id": "7UtF0FzAkUpM",
        "colab_type": "code",
        "colab": {
          "base_uri": "https://localhost:8080/",
          "height": 34
        },
        "outputId": "7313f94c-173a-47e2-d341-06cd3354137b"
      },
      "source": [
        "from functools import reduce\n",
        "reduce(lambda x,y:x*y,list1)"
      ],
      "execution_count": 40,
      "outputs": [
        {
          "output_type": "execute_result",
          "data": {
            "text/plain": [
              "120"
            ]
          },
          "metadata": {
            "tags": []
          },
          "execution_count": 40
        }
      ]
    },
    {
      "cell_type": "code",
      "metadata": {
        "id": "qJv4xCYnkUnc",
        "colab_type": "code",
        "colab": {}
      },
      "source": [
        ""
      ],
      "execution_count": 0,
      "outputs": []
    },
    {
      "cell_type": "code",
      "metadata": {
        "id": "7FbWE0RSkUjQ",
        "colab_type": "code",
        "colab": {}
      },
      "source": [
        ""
      ],
      "execution_count": 0,
      "outputs": []
    },
    {
      "cell_type": "code",
      "metadata": {
        "id": "r1rUF51PkUhj",
        "colab_type": "code",
        "colab": {}
      },
      "source": [
        ""
      ],
      "execution_count": 0,
      "outputs": []
    },
    {
      "cell_type": "code",
      "metadata": {
        "id": "POMcEBOhkUfd",
        "colab_type": "code",
        "colab": {}
      },
      "source": [
        ""
      ],
      "execution_count": 0,
      "outputs": []
    }
  ]
}