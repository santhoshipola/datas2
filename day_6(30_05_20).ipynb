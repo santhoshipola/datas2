{
  "nbformat": 4,
  "nbformat_minor": 0,
  "metadata": {
    "colab": {
      "name": "day 6(30.05.20).ipynb",
      "provenance": [],
      "authorship_tag": "ABX9TyNSYrzMM+KyRYp11mY/XogC",
      "include_colab_link": true
    },
    "kernelspec": {
      "name": "python3",
      "display_name": "Python 3"
    }
  },
  "cells": [
    {
      "cell_type": "markdown",
      "metadata": {
        "id": "view-in-github",
        "colab_type": "text"
      },
      "source": [
        "<a href=\"https://colab.research.google.com/github/santhoshipola/datas2/blob/master/day_6(30_05_20).ipynb\" target=\"_parent\"><img src=\"https://colab.research.google.com/assets/colab-badge.svg\" alt=\"Open In Colab\"/></a>"
      ]
    },
    {
      "cell_type": "code",
      "metadata": {
        "id": "W-y4zY2dmHKM",
        "colab_type": "code",
        "outputId": "cce9d41f-5be9-416c-f369-7c54e5debc61",
        "colab": {
          "base_uri": "https://localhost:8080/",
          "height": 34
        }
      },
      "source": [
        "#Recursive functions:\n",
        "#factorial of a number\n",
        "def fact(n):\n",
        "  if n == 0:\n",
        "    return 1\n",
        "  else :\n",
        "    return n*fact(n-1)\n",
        "fact(5)"
      ],
      "execution_count": 0,
      "outputs": [
        {
          "output_type": "execute_result",
          "data": {
            "text/plain": [
              "120"
            ]
          },
          "metadata": {
            "tags": []
          },
          "execution_count": 2
        }
      ]
    },
    {
      "cell_type": "code",
      "metadata": {
        "id": "j8M8CdZs2ogy",
        "colab_type": "code",
        "outputId": "d827d8e1-df32-45c8-b981-c4f73dd47493",
        "colab": {
          "base_uri": "https://localhost:8080/",
          "height": 34
        }
      },
      "source": [
        "#Lower bound and Upper bound\n",
        "def display(lb,ub):\n",
        "  if lb > ub:\n",
        "    return#to exit from looop\n",
        "  else:\n",
        "    print(lb,end=' ')\n",
        "    display(lb+1,ub)\n",
        "\n",
        "\n",
        "display(1,10)"
      ],
      "execution_count": 0,
      "outputs": [
        {
          "output_type": "stream",
          "text": [
            "1 2 3 4 5 6 7 8 9 10 "
          ],
          "name": "stdout"
        }
      ]
    },
    {
      "cell_type": "code",
      "metadata": {
        "id": "Cwtg7DTq5Oor",
        "colab_type": "code",
        "outputId": "c21f899f-0c3b-4334-85c7-bc378f75fe92",
        "colab": {
          "base_uri": "https://localhost:8080/",
          "height": 51
        }
      },
      "source": [
        "#Fibanacci series:0,1,1,2,3,5,8,13,21,34........               printing nth value of series \n",
        "import time\n",
        "def rec(n):\n",
        "  if n == 1:\n",
        "    return 0\n",
        "  elif n == 2:\n",
        "    return 1\n",
        "  else:\n",
        "    return rec(n-2) + rec(n-1)\n",
        "prev = time.time()\n",
        "print(rec(20))\n",
        "print(time.time() - prev) "
      ],
      "execution_count": 0,
      "outputs": [
        {
          "output_type": "stream",
          "text": [
            "4181\n",
            "0.004811525344848633\n"
          ],
          "name": "stdout"
        }
      ]
    },
    {
      "cell_type": "code",
      "metadata": {
        "id": "LAA5ob6x6OYZ",
        "colab_type": "code",
        "outputId": "c06f638d-eb35-4a6e-fd55-4a879acb48d1",
        "colab": {
          "base_uri": "https://localhost:8080/",
          "height": 51
        }
      },
      "source": [
        "#if value of n is big it becomes difficult to obtain output fast..below is the other using list\n",
        "import time\n",
        "fibs = [0,1]\n",
        "def fibo(n):\n",
        "  if n <= len(fibs):\n",
        "    return fibs[n-1]\n",
        "  else:\n",
        "    fibs.append(fibs[len(fibs)-1] + fibs[len(fibs)-2] )\n",
        "    return fibo(n)\n",
        "prev = time.time()\n",
        "print(fibo(20))\n",
        "print(time.time() - prev) \n"
      ],
      "execution_count": 0,
      "outputs": [
        {
          "output_type": "stream",
          "text": [
            "4181\n",
            "0.004185914993286133\n"
          ],
          "name": "stdout"
        }
      ]
    },
    {
      "cell_type": "code",
      "metadata": {
        "id": "m5URTCij6Obr",
        "colab_type": "code",
        "colab": {}
      },
      "source": [
        "###list:\n",
        "#Builtin methods:\n",
        "\n",
        "1.append()\n",
        "2.insert()\n",
        "3.extend()"
      ],
      "execution_count": 0,
      "outputs": []
    },
    {
      "cell_type": "code",
      "metadata": {
        "id": "kfMGbRsz6OeU",
        "colab_type": "code",
        "outputId": "1c3eb380-ed92-47e6-e331-67338dd29541",
        "colab": {
          "base_uri": "https://localhost:8080/",
          "height": 51
        }
      },
      "source": [
        "list1 = [1,2,3,4,5]\n",
        "list1.append(6)\n",
        "print(list1)\n",
        "list1.append(7)\n",
        "print(list1)\n"
      ],
      "execution_count": 0,
      "outputs": [
        {
          "output_type": "stream",
          "text": [
            "[1, 2, 3, 4, 5, 6]\n",
            "[1, 2, 3, 4, 5, 6, 7]\n"
          ],
          "name": "stdout"
        }
      ]
    },
    {
      "cell_type": "code",
      "metadata": {
        "id": "MOqyCVtu6Oge",
        "colab_type": "code",
        "outputId": "a5b0b39c-30fe-463f-9a9b-4ac095356d7a",
        "colab": {
          "base_uri": "https://localhost:8080/",
          "height": 34
        }
      },
      "source": [
        "#insert()\n",
        "list1.insert(2,10)\n",
        "print(list1)#to insert at required position"
      ],
      "execution_count": 0,
      "outputs": [
        {
          "output_type": "stream",
          "text": [
            "[1, 2, 10, 10, 3, 4, 5, 6, 7]\n"
          ],
          "name": "stdout"
        }
      ]
    },
    {
      "cell_type": "code",
      "metadata": {
        "id": "rSsV_FT86Oik",
        "colab_type": "code",
        "outputId": "ae433501-5804-4447-c03a-932a98312341",
        "colab": {
          "base_uri": "https://localhost:8080/",
          "height": 34
        }
      },
      "source": [
        "list1.insert(2,15)\n",
        "print(list1)"
      ],
      "execution_count": 0,
      "outputs": [
        {
          "output_type": "stream",
          "text": [
            "[1, 2, 15, 10, 10, 3, 4, 5, 6, 7]\n"
          ],
          "name": "stdout"
        }
      ]
    },
    {
      "cell_type": "code",
      "metadata": {
        "id": "i6U3xfzV6OnT",
        "colab_type": "code",
        "outputId": "093f8528-b3b0-45fc-9766-e24b0dadcdcf",
        "colab": {
          "base_uri": "https://localhost:8080/",
          "height": 34
        }
      },
      "source": [
        "#extend:inserting multiple values at the end\n",
        "list1.extend([8,9,10])\n",
        "print(list1)"
      ],
      "execution_count": 0,
      "outputs": [
        {
          "output_type": "stream",
          "text": [
            "[1, 2, 15, 10, 10, 3, 4, 5, 6, 7, 8, 9, 10]\n"
          ],
          "name": "stdout"
        }
      ]
    },
    {
      "cell_type": "code",
      "metadata": {
        "id": "a_sa7-LT6Oqa",
        "colab_type": "code",
        "colab": {}
      },
      "source": [
        "###Removing elements:\n",
        "1.pop()"
      ],
      "execution_count": 0,
      "outputs": []
    },
    {
      "cell_type": "code",
      "metadata": {
        "id": "2j_Z9YqP6Ol6",
        "colab_type": "code",
        "outputId": "d1e7bb0b-31bc-4a5b-8a4d-4b4d3ab657e9",
        "colab": {
          "base_uri": "https://localhost:8080/",
          "height": 34
        }
      },
      "source": [
        "list1.pop()#by default it has index -1\n",
        "print(list1)"
      ],
      "execution_count": 0,
      "outputs": [
        {
          "output_type": "stream",
          "text": [
            "[1, 2, 15, 10, 10, 3, 4, 5, 6, 7, 8, 9]\n"
          ],
          "name": "stdout"
        }
      ]
    },
    {
      "cell_type": "code",
      "metadata": {
        "id": "ppipBfBdGhSL",
        "colab_type": "code",
        "outputId": "4a709664-324a-4878-e5fb-524246b1afcd",
        "colab": {
          "base_uri": "https://localhost:8080/",
          "height": 34
        }
      },
      "source": [
        "list1.pop(2)\n",
        "print(list1)"
      ],
      "execution_count": 0,
      "outputs": [
        {
          "output_type": "stream",
          "text": [
            "[1, 2, 10, 10, 3, 4, 5, 6, 7, 8, 9]\n"
          ],
          "name": "stdout"
        }
      ]
    },
    {
      "cell_type": "code",
      "metadata": {
        "id": "TCazK9vrGroL",
        "colab_type": "code",
        "outputId": "18dee7c2-eb16-4e2d-d58c-d3741bff4b7a",
        "colab": {
          "base_uri": "https://localhost:8080/",
          "height": 34
        }
      },
      "source": [
        "#remove            if index is not known\n",
        "list1.remove(10)\n",
        "print(list1)"
      ],
      "execution_count": 0,
      "outputs": [
        {
          "output_type": "stream",
          "text": [
            "[1, 2, 10, 3, 4, 5, 6, 7, 8, 9]\n"
          ],
          "name": "stdout"
        }
      ]
    },
    {
      "cell_type": "code",
      "metadata": {
        "id": "MNgo7QazG9L4",
        "colab_type": "code",
        "outputId": "45873112-e400-480b-954f-498e410afd27",
        "colab": {
          "base_uri": "https://localhost:8080/",
          "height": 34
        }
      },
      "source": [
        "#clear              cleares entire list\n",
        "list1.clear()\n",
        "list1"
      ],
      "execution_count": 0,
      "outputs": [
        {
          "output_type": "execute_result",
          "data": {
            "text/plain": [
              "[]"
            ]
          },
          "metadata": {
            "tags": []
          },
          "execution_count": 25
        }
      ]
    },
    {
      "cell_type": "code",
      "metadata": {
        "id": "OzbS6H2LHJ3I",
        "colab_type": "code",
        "outputId": "5665c2ca-6906-4063-8750-52bd78e2e260",
        "colab": {
          "base_uri": "https://localhost:8080/",
          "height": 51
        }
      },
      "source": [
        "list1 = [23,34,45,76,56,76,67,78]\n",
        "print(list1.index(34))#returns index of element\n",
        "print(list1.count(76))#returns freq of element"
      ],
      "execution_count": 0,
      "outputs": [
        {
          "output_type": "stream",
          "text": [
            "1\n",
            "2\n"
          ],
          "name": "stdout"
        }
      ]
    },
    {
      "cell_type": "code",
      "metadata": {
        "id": "Dw5-4Nc2Hl7E",
        "colab_type": "code",
        "outputId": "fa5334e9-e080-4a6c-a0a8-56a36acf3745",
        "colab": {
          "base_uri": "https://localhost:8080/",
          "height": 34
        }
      },
      "source": [
        "list1.sort()#to get the ascending order\n",
        "print(list1)"
      ],
      "execution_count": 0,
      "outputs": [
        {
          "output_type": "stream",
          "text": [
            "[23, 34, 45, 56, 67, 76, 76, 78]\n"
          ],
          "name": "stdout"
        }
      ]
    },
    {
      "cell_type": "code",
      "metadata": {
        "id": "U105qkIcHl9t",
        "colab_type": "code",
        "outputId": "2a09992a-1b15-4322-99aa-dcbc3f304247",
        "colab": {
          "base_uri": "https://localhost:8080/",
          "height": 34
        }
      },
      "source": [
        "list1.sort(reverse = True)# to get descending order      to get acsending order change it to false\n",
        "print(list1)"
      ],
      "execution_count": 0,
      "outputs": [
        {
          "output_type": "stream",
          "text": [
            "[78, 76, 76, 67, 56, 45, 34, 23]\n"
          ],
          "name": "stdout"
        }
      ]
    },
    {
      "cell_type": "code",
      "metadata": {
        "id": "ygeufIu7HmCb",
        "colab_type": "code",
        "colab": {}
      },
      "source": [
        "#reverse\n",
        "list1.reverse()\n",
        "print(list1)"
      ],
      "execution_count": 0,
      "outputs": []
    },
    {
      "cell_type": "code",
      "metadata": {
        "id": "vTl14Uq2HmGD",
        "colab_type": "code",
        "colab": {
          "base_uri": "https://localhost:8080/",
          "height": 68
        },
        "outputId": "13ed7006-0c25-4c73-f2ab-34acb88be88c"
      },
      "source": [
        "list1 = [1,2,3,4,5]\n",
        "list2 = []\n",
        "list3 = []\n",
        "list2 = list1 \n",
        "print(list2)\n",
        "list3 = list1.copy()#changes on original list willnot ne saved in shallow copy\n",
        "print(list3)#changes on original list will be saved in deep copy\n",
        "list1.append(6)\n",
        "list1.append(7)\n",
        "print(list1,list2,list3)"
      ],
      "execution_count": 1,
      "outputs": [
        {
          "output_type": "stream",
          "text": [
            "[1, 2, 3, 4, 5]\n",
            "[1, 2, 3, 4, 5]\n",
            "[1, 2, 3, 4, 5, 6, 7] [1, 2, 3, 4, 5, 6, 7] [1, 2, 3, 4, 5]\n"
          ],
          "name": "stdout"
        }
      ]
    },
    {
      "cell_type": "code",
      "metadata": {
        "id": "kIOP5o6VHmBB",
        "colab_type": "code",
        "colab": {}
      },
      "source": [
        "###File handling:\n",
        "1.create a file\n",
        "2.add some text\n",
        "3.save\n",
        "4.read\n",
        "5.append\n",
        "6.rename\n",
        "7.remove"
      ],
      "execution_count": 0,
      "outputs": []
    },
    {
      "cell_type": "code",
      "metadata": {
        "id": "kJh3tO_ZL9Wz",
        "colab_type": "code",
        "colab": {}
      },
      "source": [
        "##modes:\n",
        "1.write(w).........if file is not available,new file will be created and content is added to it,if file is available,existing info is removed and another is added\n",
        "2.read(r)............file must be available\n",
        "3.append(a)...........if file is not available,a new file is created and content is added,if present,content is added to original\n",
        "4.new file creation(x)............new file is created if file is not there with mentioned name"
      ],
      "execution_count": 0,
      "outputs": []
    },
    {
      "cell_type": "code",
      "metadata": {
        "id": "hhkO2ESnL9Zo",
        "colab_type": "code",
        "colab": {}
      },
      "source": [
        "1.open()\n",
        "2.close()     two builtin functions used freq"
      ],
      "execution_count": 0,
      "outputs": []
    },
    {
      "cell_type": "code",
      "metadata": {
        "id": "E1L1ZV10L9T1",
        "colab_type": "code",
        "colab": {}
      },
      "source": [
        "f = open(\"sample.txt\",\"w\")#file is creatd in write mode\n",
        "f.write(\"hello ever!!\")\n",
        "f.close()#all changes will be saved and file will be closed"
      ],
      "execution_count": 0,
      "outputs": []
    },
    {
      "cell_type": "code",
      "metadata": {
        "id": "3XK_EIsANkJd",
        "colab_type": "code",
        "colab": {
          "base_uri": "https://localhost:8080/",
          "height": 34
        },
        "outputId": "330f16b5-9a1e-41a6-c6ef-534fcbcdd0a6"
      },
      "source": [
        "f = open(\"sample.txt\",\"r\")\n",
        "data = f.read()\n",
        "print(data)\n",
        "f.close()  #reading contents from the file"
      ],
      "execution_count": 5,
      "outputs": [
        {
          "output_type": "stream",
          "text": [
            "hello ever!!\n"
          ],
          "name": "stdout"
        }
      ]
    },
    {
      "cell_type": "code",
      "metadata": {
        "id": "dfoirxdBOV9l",
        "colab_type": "code",
        "colab": {}
      },
      "source": [
        "f = open(\"sample.txt\",\"a\")\n",
        "s = '''kghreiug\n",
        "uhk'''             #appending\n",
        "f.write(s)\n",
        "f.close()"
      ],
      "execution_count": 0,
      "outputs": []
    },
    {
      "cell_type": "code",
      "metadata": {
        "id": "s0Mms2vdO9aI",
        "colab_type": "code",
        "colab": {
          "base_uri": "https://localhost:8080/",
          "height": 51
        },
        "outputId": "78a141d5-23c5-4200-ce7d-0893fdc3ebe7"
      },
      "source": [
        "f = open(\"sample.txt\",\"r\")\n",
        "data = f.read()\n",
        "print(data)\n",
        "f.close()  #reading contents from the file"
      ],
      "execution_count": 7,
      "outputs": [
        {
          "output_type": "stream",
          "text": [
            "hello ever!!kghreiug\n",
            "uhk\n"
          ],
          "name": "stdout"
        }
      ]
    },
    {
      "cell_type": "code",
      "metadata": {
        "id": "6vgSlRpCPDmY",
        "colab_type": "code",
        "colab": {}
      },
      "source": [
        ""
      ],
      "execution_count": 0,
      "outputs": []
    }
  ]
}